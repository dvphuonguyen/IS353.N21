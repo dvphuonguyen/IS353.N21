{
 "cells": [
  {
   "cell_type": "code",
   "execution_count": 26,
   "metadata": {},
   "outputs": [],
   "source": [
    "from itertools import combinations\n",
    "import numpy as np\n",
    "import pandas as pd\n",
    "import random\n",
    "import networkx as nx"
   ]
  },
  {
   "cell_type": "code",
   "execution_count": 27,
   "metadata": {},
   "outputs": [],
   "source": [
    "def compute_source_target(df):\n",
    "    # Xác định số lượng người dùng và số lượng phim duy nhất từ dữ liệu\n",
    "    unique_users = df.user_id.unique()\n",
    "    num_users = len(unique_users)\n",
    "\n",
    "    source_target = []\n",
    "\n",
    "    # Tính toán trọng số giữa người dùng với các người dùng khác\n",
    "    for i in range(num_users):\n",
    "        for j in range(i+1, num_users):\n",
    "            user1 = unique_users[i]\n",
    "            user2 = unique_users[j]\n",
    "\n",
    "            source_target.append((user1, user2))\n",
    "\n",
    "    return source_target"
   ]
  },
  {
   "cell_type": "code",
   "execution_count": 28,
   "metadata": {},
   "outputs": [],
   "source": [
    "def k_cliques(graph):\n",
    "    # 2-cliques\n",
    "    cliques = [{i, j} for i, j in graph.edges() if i != j]\n",
    "    k = 2\n",
    "\n",
    "    while cliques:\n",
    "        # result\n",
    "        yield k, cliques\n",
    "\n",
    "        # merge k-cliques into (k+1)-cliques\n",
    "        cliques_1 = set()\n",
    "        for u, v in combinations(cliques, 2):\n",
    "            w = u ^ v\n",
    "            if len(w) == 2 and graph.has_edge(*w):\n",
    "                cliques_1.add(tuple(u | w))\n",
    "\n",
    "        # remove duplicates\n",
    "        cliques = list(map(set, cliques_1))\n",
    "        k += 1"
   ]
  },
  {
   "cell_type": "code",
   "execution_count": 29,
   "metadata": {},
   "outputs": [],
   "source": [
    "def print_cliques(G, size_k):\n",
    "    for k, cliques in k_cliques(G):\n",
    "        if k == size_k:\n",
    "            print('%d-cliques = %d, %s.' % (k, len(cliques), cliques))"
   ]
  },
  {
   "cell_type": "code",
   "execution_count": 30,
   "metadata": {},
   "outputs": [
    {
     "data": {
      "text/html": [
       "<div>\n",
       "<style scoped>\n",
       "    .dataframe tbody tr th:only-of-type {\n",
       "        vertical-align: middle;\n",
       "    }\n",
       "\n",
       "    .dataframe tbody tr th {\n",
       "        vertical-align: top;\n",
       "    }\n",
       "\n",
       "    .dataframe thead th {\n",
       "        text-align: right;\n",
       "    }\n",
       "</style>\n",
       "<table border=\"1\" class=\"dataframe\">\n",
       "  <thead>\n",
       "    <tr style=\"text-align: right;\">\n",
       "      <th></th>\n",
       "      <th>user_id</th>\n",
       "      <th>movie_id</th>\n",
       "      <th>rating</th>\n",
       "    </tr>\n",
       "  </thead>\n",
       "  <tbody>\n",
       "    <tr>\n",
       "      <th>0</th>\n",
       "      <td>1</td>\n",
       "      <td>101</td>\n",
       "      <td>5</td>\n",
       "    </tr>\n",
       "    <tr>\n",
       "      <th>1</th>\n",
       "      <td>1</td>\n",
       "      <td>102</td>\n",
       "      <td>3</td>\n",
       "    </tr>\n",
       "    <tr>\n",
       "      <th>2</th>\n",
       "      <td>1</td>\n",
       "      <td>103</td>\n",
       "      <td>3</td>\n",
       "    </tr>\n",
       "    <tr>\n",
       "      <th>3</th>\n",
       "      <td>1</td>\n",
       "      <td>104</td>\n",
       "      <td>3</td>\n",
       "    </tr>\n",
       "    <tr>\n",
       "      <th>4</th>\n",
       "      <td>1</td>\n",
       "      <td>105</td>\n",
       "      <td>2</td>\n",
       "    </tr>\n",
       "  </tbody>\n",
       "</table>\n",
       "</div>"
      ],
      "text/plain": [
       "   user_id  movie_id  rating\n",
       "0        1       101       5\n",
       "1        1       102       3\n",
       "2        1       103       3\n",
       "3        1       104       3\n",
       "4        1       105       2"
      ]
     },
     "execution_count": 30,
     "metadata": {},
     "output_type": "execute_result"
    }
   ],
   "source": [
    "df = pd.read_csv(\"C:/Users/UYEN/OneDrive - Trường ĐH CNTT - University of Information Technology/Đại Học/Năm 4/Làm nhóm HK2 2022-2023/Mạng xã hội/FinalProject/RatingCSV.csv\")\n",
    "df.head(5)"
   ]
  },
  {
   "cell_type": "code",
   "execution_count": 31,
   "metadata": {},
   "outputs": [
    {
     "data": {
      "text/plain": [
       "7"
      ]
     },
     "execution_count": 31,
     "metadata": {},
     "output_type": "execute_result"
    }
   ],
   "source": [
    "unique_users = df.user_id.unique()\n",
    "num_users = len(unique_users)\n",
    "num_users"
   ]
  },
  {
   "cell_type": "code",
   "execution_count": 32,
   "metadata": {},
   "outputs": [
    {
     "data": {
      "text/plain": [
       "[(1, 2),\n",
       " (1, 3),\n",
       " (1, 4),\n",
       " (1, 5),\n",
       " (1, 6),\n",
       " (1, 7),\n",
       " (2, 3),\n",
       " (2, 4),\n",
       " (2, 5),\n",
       " (2, 6),\n",
       " (2, 7),\n",
       " (3, 4),\n",
       " (3, 5),\n",
       " (3, 6),\n",
       " (3, 7),\n",
       " (4, 5),\n",
       " (4, 6),\n",
       " (4, 7),\n",
       " (5, 6),\n",
       " (5, 7),\n",
       " (6, 7)]"
      ]
     },
     "execution_count": 32,
     "metadata": {},
     "output_type": "execute_result"
    }
   ],
   "source": [
    "source_target = compute_source_target(df)\n",
    "source_target"
   ]
  },
  {
   "cell_type": "code",
   "execution_count": 33,
   "metadata": {},
   "outputs": [],
   "source": [
    "G = nx.Graph()\n",
    "G.add_edges_from(source_target)"
   ]
  },
  {
   "cell_type": "code",
   "execution_count": 36,
   "metadata": {},
   "outputs": [
    {
     "name": "stdout",
     "output_type": "stream",
     "text": [
      "size_k: 7\n",
      "7-cliques = 1, [{1, 2, 3, 4, 5, 6, 7}].\n"
     ]
    }
   ],
   "source": [
    "size_k = random.randint(2, num_users)\n",
    "print(f\"size_k: {size_k}\")\n",
    "print_cliques(G, size_k)"
   ]
  },
  {
   "cell_type": "code",
   "execution_count": 37,
   "metadata": {},
   "outputs": [
    {
     "name": "stdout",
     "output_type": "stream",
     "text": [
      "size_k: 6\n",
      "6-cliques = 7, [{1, 2, 3, 4, 5, 7}, {1, 2, 3, 4, 6, 7}, {1, 2, 3, 5, 6, 7}, {2, 3, 4, 5, 6, 7}, {1, 2, 4, 5, 6, 7}, {1, 2, 3, 4, 5, 6}, {1, 3, 4, 5, 6, 7}].\n"
     ]
    }
   ],
   "source": [
    "size_k = random.randint(2, num_users)\n",
    "print(f\"size_k: {size_k}\")\n",
    "print_cliques(G, size_k)"
   ]
  },
  {
   "cell_type": "code",
   "execution_count": 42,
   "metadata": {},
   "outputs": [
    {
     "name": "stdout",
     "output_type": "stream",
     "text": [
      "size_k: 3\n",
      "3-cliques = 35, [{3, 5, 6}, {1, 5, 7}, {2, 5, 7}, {1, 2, 5}, {4, 5, 6}, {1, 3, 6}, {4, 6, 7}, {1, 4, 5}, {3, 4, 7}, {2, 4, 5}, {3, 6, 7}, {2, 3, 6}, {1, 5, 6}, {5, 6, 7}, {1, 2, 4}, {2, 5, 6}, {1, 2, 7}, {2, 6, 7}, {3, 4, 6}, {1, 4, 7}, {1, 3, 5}, {2, 4, 7}, {2, 3, 5}, {1, 6, 7}, {3, 5, 7}, {1, 2, 6}, {4, 5, 7}, {1, 2, 3}, {1, 4, 6}, {1, 3, 4}, {1, 3, 7}, {3, 4, 5}, {2, 3, 4}, {2, 3, 7}, {2, 4, 6}].\n"
     ]
    }
   ],
   "source": [
    "size_k = random.randint(2, num_users)\n",
    "print(f\"size_k: {size_k}\")\n",
    "print_cliques(G, size_k)"
   ]
  },
  {
   "cell_type": "code",
   "execution_count": 43,
   "metadata": {},
   "outputs": [
    {
     "name": "stdout",
     "output_type": "stream",
     "text": [
      "size_k: 5\n",
      "5-cliques = 21, [{3, 4, 5, 6, 7}, {1, 3, 4, 5, 6}, {1, 2, 3, 4, 6}, {2, 3, 4, 5, 7}, {2, 3, 5, 6, 7}, {1, 3, 4, 6, 7}, {1, 2, 3, 5, 7}, {1, 2, 4, 5, 7}, {1, 2, 3, 4, 5}, {2, 3, 4, 5, 6}, {2, 4, 5, 6, 7}, {1, 2, 5, 6, 7}, {2, 3, 4, 6, 7}, {1, 2, 3, 5, 6}, {1, 2, 4, 5, 6}, {1, 3, 4, 5, 7}, {1, 4, 5, 6, 7}, {1, 2, 3, 4, 7}, {1, 3, 5, 6, 7}, {1, 2, 4, 6, 7}, {1, 2, 3, 6, 7}].\n"
     ]
    }
   ],
   "source": [
    "size_k = random.randint(2, num_users)\n",
    "print(f\"size_k: {size_k}\")\n",
    "print_cliques(G, size_k)"
   ]
  },
  {
   "cell_type": "code",
   "execution_count": 38,
   "metadata": {},
   "outputs": [
    {
     "name": "stdout",
     "output_type": "stream",
     "text": [
      "size_k: 4\n",
      "4-cliques = 35, [{1, 3, 6, 7}, {2, 3, 4, 6}, {1, 2, 3, 4}, {1, 4, 6, 7}, {1, 2, 3, 7}, {1, 2, 4, 6}, {2, 4, 5, 7}, {1, 3, 4, 6}, {3, 5, 6, 7}, {3, 4, 5, 6}, {2, 3, 5, 7}, {1, 2, 5, 7}, {2, 5, 6, 7}, {1, 3, 5, 7}, {2, 3, 4, 5}, {1, 2, 3, 6}, {1, 2, 4, 5}, {1, 4, 5, 7}, {1, 3, 4, 5}, {2, 4, 5, 6}, {3, 4, 6, 7}, {2, 3, 5, 6}, {2, 3, 6, 7}, {1, 2, 5, 6}, {1, 5, 6, 7}, {2, 4, 6, 7}, {1, 3, 5, 6}, {2, 3, 4, 7}, {1, 4, 5, 6}, {1, 2, 4, 7}, {1, 2, 3, 5}, {1, 3, 4, 7}, {3, 4, 5, 7}, {4, 5, 6, 7}, {1, 2, 6, 7}].\n"
     ]
    }
   ],
   "source": [
    "size_k = random.randint(2, num_users)\n",
    "print(f\"size_k: {size_k}\")\n",
    "print_cliques(G, size_k)"
   ]
  },
  {
   "cell_type": "code",
   "execution_count": 58,
   "metadata": {},
   "outputs": [
    {
     "name": "stdout",
     "output_type": "stream",
     "text": [
      "size_k: 2\n",
      "2-cliques = 21, [{1, 2}, {1, 3}, {1, 4}, {1, 5}, {1, 6}, {1, 7}, {2, 3}, {2, 4}, {2, 5}, {2, 6}, {2, 7}, {3, 4}, {3, 5}, {3, 6}, {3, 7}, {4, 5}, {4, 6}, {4, 7}, {5, 6}, {5, 7}, {6, 7}].\n"
     ]
    }
   ],
   "source": [
    "size_k = random.randint(2, num_users)\n",
    "print(f\"size_k: {size_k}\")\n",
    "print_cliques(G, size_k)"
   ]
  }
 ],
 "metadata": {
  "kernelspec": {
   "display_name": "mangxh",
   "language": "python",
   "name": "python3"
  },
  "language_info": {
   "codemirror_mode": {
    "name": "ipython",
    "version": 3
   },
   "file_extension": ".py",
   "mimetype": "text/x-python",
   "name": "python",
   "nbconvert_exporter": "python",
   "pygments_lexer": "ipython3",
   "version": "3.8.16"
  },
  "orig_nbformat": 4
 },
 "nbformat": 4,
 "nbformat_minor": 2
}
