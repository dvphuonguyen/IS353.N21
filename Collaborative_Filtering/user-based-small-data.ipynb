{
 "cells": [
  {
   "cell_type": "code",
   "execution_count": 1,
   "id": "6c55e14d",
   "metadata": {},
   "outputs": [],
   "source": [
    "# import necessary libraries\n",
    "import numpy as np\n",
    "import pandas as pd\n",
    "from math import sqrt\n",
    "from sklearn.model_selection import train_test_split\n",
    "import time"
   ]
  },
  {
   "cell_type": "code",
   "execution_count": 2,
   "id": "e4cc4d15",
   "metadata": {},
   "outputs": [],
   "source": [
    "#dictionary with usernames their watched web series and ratings out of 5\n",
    "\n",
    "dataset={\n",
    "        'Tanya': {'Special Ops': 5,\n",
    "                  'Criminal Justice': 3,\n",
    "                  'Panchayat': 3,\n",
    "                  'Sacred Games': 3,\n",
    "                  'Apharan': 2,\n",
    "                  'Mirzapur': 3},\n",
    "    \n",
    "        'Mohan': {'Special Ops': 5,\n",
    "                    'Criminal Justice': 3,\n",
    "                    'Sacred Games': 5,\n",
    "                    'Panchayat':5,\n",
    "                    'Mirzapur': 3,\n",
    "                    'Apharan': 3},\n",
    "    \n",
    "        'Tasha': {'Special Ops': 2,\n",
    "                   'Panchayat': 5,\n",
    "                   'Sacred Games': 3,\n",
    "                   'Mirzapur': 4},\n",
    "    \n",
    "        'Nirbhay': {'Panchayat': 5,\n",
    "                   'Mirzapur': 4,\n",
    "                   'Sacred Games': 4,},\n",
    "    \n",
    "       'Muskan': {'Special Ops': 4,\n",
    "                    'Criminal Justice': 4,\n",
    "                    'Panchayat': 4,\n",
    "                    'Mirzapur': 3,\n",
    "                    'Apharan': 2},\n",
    "    \n",
    "       'Anshika': {'Special Ops': 3,\n",
    "                  'Panchayat': 4,\n",
    "                  'Mirzapur': 3,\n",
    "                  'Sacred Games': 5},\n",
    "    \n",
    "      'Dhawal': {'Panchayat':4,\n",
    "                  'Apharan':1,\n",
    "                  'Sacred Games':4}}"
   ]
  },
  {
   "cell_type": "code",
   "execution_count": 3,
   "id": "e48c35e9",
   "metadata": {},
   "outputs": [
    {
     "data": {
      "text/html": [
       "<div>\n",
       "<style scoped>\n",
       "    .dataframe tbody tr th:only-of-type {\n",
       "        vertical-align: middle;\n",
       "    }\n",
       "\n",
       "    .dataframe tbody tr th {\n",
       "        vertical-align: top;\n",
       "    }\n",
       "\n",
       "    .dataframe thead th {\n",
       "        text-align: right;\n",
       "    }\n",
       "</style>\n",
       "<table border=\"1\" class=\"dataframe\">\n",
       "  <thead>\n",
       "    <tr style=\"text-align: right;\">\n",
       "      <th></th>\n",
       "      <th>Tanya</th>\n",
       "      <th>Mohan</th>\n",
       "      <th>Tasha</th>\n",
       "      <th>Nirbhay</th>\n",
       "      <th>Muskan</th>\n",
       "      <th>Anshika</th>\n",
       "      <th>Dhawal</th>\n",
       "    </tr>\n",
       "  </thead>\n",
       "  <tbody>\n",
       "    <tr>\n",
       "      <th>Special Ops</th>\n",
       "      <td>5</td>\n",
       "      <td>5</td>\n",
       "      <td>2.0</td>\n",
       "      <td>Not Seen Yet</td>\n",
       "      <td>4.0</td>\n",
       "      <td>3.0</td>\n",
       "      <td>Not Seen Yet</td>\n",
       "    </tr>\n",
       "    <tr>\n",
       "      <th>Criminal Justice</th>\n",
       "      <td>3</td>\n",
       "      <td>3</td>\n",
       "      <td>Not Seen Yet</td>\n",
       "      <td>Not Seen Yet</td>\n",
       "      <td>4.0</td>\n",
       "      <td>Not Seen Yet</td>\n",
       "      <td>Not Seen Yet</td>\n",
       "    </tr>\n",
       "    <tr>\n",
       "      <th>Panchayat</th>\n",
       "      <td>3</td>\n",
       "      <td>5</td>\n",
       "      <td>5.0</td>\n",
       "      <td>5.0</td>\n",
       "      <td>4.0</td>\n",
       "      <td>4.0</td>\n",
       "      <td>4.0</td>\n",
       "    </tr>\n",
       "    <tr>\n",
       "      <th>Sacred Games</th>\n",
       "      <td>3</td>\n",
       "      <td>5</td>\n",
       "      <td>3.0</td>\n",
       "      <td>4.0</td>\n",
       "      <td>Not Seen Yet</td>\n",
       "      <td>5.0</td>\n",
       "      <td>4.0</td>\n",
       "    </tr>\n",
       "    <tr>\n",
       "      <th>Apharan</th>\n",
       "      <td>2</td>\n",
       "      <td>3</td>\n",
       "      <td>Not Seen Yet</td>\n",
       "      <td>Not Seen Yet</td>\n",
       "      <td>2.0</td>\n",
       "      <td>Not Seen Yet</td>\n",
       "      <td>1.0</td>\n",
       "    </tr>\n",
       "    <tr>\n",
       "      <th>Mirzapur</th>\n",
       "      <td>3</td>\n",
       "      <td>3</td>\n",
       "      <td>4.0</td>\n",
       "      <td>4.0</td>\n",
       "      <td>3.0</td>\n",
       "      <td>3.0</td>\n",
       "      <td>Not Seen Yet</td>\n",
       "    </tr>\n",
       "  </tbody>\n",
       "</table>\n",
       "</div>"
      ],
      "text/plain": [
       "                  Tanya  Mohan         Tasha       Nirbhay        Muskan  \\\n",
       "Special Ops           5      5           2.0  Not Seen Yet           4.0   \n",
       "Criminal Justice      3      3  Not Seen Yet  Not Seen Yet           4.0   \n",
       "Panchayat             3      5           5.0           5.0           4.0   \n",
       "Sacred Games          3      5           3.0           4.0  Not Seen Yet   \n",
       "Apharan               2      3  Not Seen Yet  Not Seen Yet           2.0   \n",
       "Mirzapur              3      3           4.0           4.0           3.0   \n",
       "\n",
       "                       Anshika        Dhawal  \n",
       "Special Ops                3.0  Not Seen Yet  \n",
       "Criminal Justice  Not Seen Yet  Not Seen Yet  \n",
       "Panchayat                  4.0           4.0  \n",
       "Sacred Games               5.0           4.0  \n",
       "Apharan           Not Seen Yet           1.0  \n",
       "Mirzapur                   3.0  Not Seen Yet  "
      ]
     },
     "execution_count": 3,
     "metadata": {},
     "output_type": "execute_result"
    }
   ],
   "source": [
    "#create a data frame of this dataset\n",
    "\n",
    "dataset_df=pd.DataFrame(dataset)\n",
    "dataset_df.fillna(\"Not Seen Yet\",inplace=True)\n",
    "dataset_df"
   ]
  },
  {
   "cell_type": "code",
   "execution_count": 4,
   "id": "5fbb88f6",
   "metadata": {},
   "outputs": [],
   "source": [
    "# custom function to create cosine correlation method from scratch\n",
    "\n",
    "def person_corelation(person1,person2):\n",
    "    both_rated = {}\n",
    "    for item in dataset[person1]:\n",
    "        if item in dataset[person2]:\n",
    "            both_rated[item] = 1\n",
    "\n",
    "    number_of_ratings = len(both_rated)\n",
    "    if number_of_ratings == 0:\n",
    "        return 0\n",
    "    # Mean of each user\n",
    "    person1_mean = sum(dataset[person1][item] for item in dataset[person1])/len(dataset[person1])\n",
    "    person2_mean = sum(dataset[person2][item] for item in dataset[person2])/len(dataset[person2])\n",
    "    \n",
    "    # Sum up the squares of preferences of each user\n",
    "    person1_square_preferences_sum = sum([pow(dataset[person1][item]-person1_mean, 2) for item in both_rated])\n",
    "    person2_square_preferences_sum = sum([pow(dataset[person2][item]-person2_mean, 2) for item in both_rated])\n",
    "\n",
    "    # Sum up the product value of both preferences for each item\n",
    "    product_sum_of_both_users = sum([(dataset[person1][item]-person1_mean) * (dataset[person2][item]-person2_mean) for item in both_rated])\n",
    "\n",
    "    # Calculate the pearson score\n",
    "    denominator_value = sqrt(person1_square_preferences_sum)*sqrt(person2_square_preferences_sum)\n",
    "    if denominator_value == 0:\n",
    "        return 0\n",
    "    else:\n",
    "        r = product_sum_of_both_users / denominator_value\n",
    "        return r"
   ]
  },
  {
   "cell_type": "code",
   "execution_count": 5,
   "id": "111d6061",
   "metadata": {},
   "outputs": [
    {
     "name": "stdout",
     "output_type": "stream",
     "text": [
      "-0.487377324966494\n"
     ]
    }
   ],
   "source": [
    "print(person_corelation('Tanya','Anshika'))"
   ]
  },
  {
   "cell_type": "code",
   "execution_count": 6,
   "id": "b9e64202",
   "metadata": {},
   "outputs": [
    {
     "name": "stdout",
     "output_type": "stream",
     "text": [
      "0.45226701686664544\n"
     ]
    }
   ],
   "source": [
    "print(person_corelation('Mohan','Anshika'))"
   ]
  },
  {
   "cell_type": "code",
   "execution_count": 7,
   "id": "410c6af0",
   "metadata": {},
   "outputs": [
    {
     "name": "stdout",
     "output_type": "stream",
     "text": [
      "-1.0860556632786142e-16\n"
     ]
    }
   ],
   "source": [
    "print(person_corelation('Muskan','Anshika'))"
   ]
  },
  {
   "cell_type": "code",
   "execution_count": 8,
   "id": "5a9fa262",
   "metadata": {},
   "outputs": [
    {
     "name": "stdout",
     "output_type": "stream",
     "text": [
      "0.8320502943378437\n"
     ]
    }
   ],
   "source": [
    "print(person_corelation('Dhawal','Anshika'))"
   ]
  },
  {
   "cell_type": "code",
   "execution_count": null,
   "id": "4fc0bb68",
   "metadata": {},
   "outputs": [],
   "source": []
  },
  {
   "cell_type": "code",
   "execution_count": 9,
   "id": "b9a55d71",
   "metadata": {},
   "outputs": [],
   "source": [
    "def find_users_watched_movie(movie):\n",
    "    users_watched = []\n",
    "    for user, movies in dataset.items():\n",
    "        if movie in movies:\n",
    "            users_watched.append(user)\n",
    "    return users_watched"
   ]
  },
  {
   "cell_type": "code",
   "execution_count": 10,
   "id": "7ade0513",
   "metadata": {},
   "outputs": [],
   "source": [
    "# custom function to check most similar users\n",
    "\n",
    "def most_similar_users(target_person,movie,no_of_users):\n",
    "    users_have_seen_movie = find_users_watched_movie(movie)\n",
    "    \n",
    "    # Used list comprehension for finding pearson similarity between users\n",
    "    scores = [(person_corelation(target_person,other_person),other_person) for other_person in dataset if other_person != target_person and other_person in users_have_seen_movie]\n",
    "    \n",
    "    #sort the scores in descending order\n",
    "    scores.sort(reverse=True)\n",
    "    if no_of_users < len(users_have_seen_movie):\n",
    "        #return the scores between the target person & other persons\n",
    "        k = no_of_users\n",
    "        similar_users = [[score,user] for score, user in scores[0:no_of_users]]\n",
    "    else:\n",
    "        #return the scores between the target person & other persons\n",
    "        k = len(users_have_seen_movie)\n",
    "        similar_users = [[score,user] for score, user in scores[0:len(users_have_seen_movie)]]\n",
    "    return [similar_users,k]"
   ]
  },
  {
   "cell_type": "code",
   "execution_count": 11,
   "id": "f502f747",
   "metadata": {},
   "outputs": [],
   "source": [
    "def predict_each_movie(person,movie,k):\n",
    "    \n",
    "    if person in dataset.keys():\n",
    "        similar_person = most_similar_users(person,movie,k)\n",
    "        sum_rating = 0\n",
    "        for user in similar_person[0]:\n",
    "            sum_rating = sum_rating + dataset[user[1]][movie]\n",
    "    return sum_rating/similar_person[1]"
   ]
  },
  {
   "cell_type": "code",
   "execution_count": 16,
   "id": "cd36b3a9",
   "metadata": {},
   "outputs": [
    {
     "name": "stdout",
     "output_type": "stream",
     "text": [
      "2.0\n"
     ]
    }
   ],
   "source": [
    "print(predict_each_movie('Anshika','Apharan',3))"
   ]
  },
  {
   "cell_type": "code",
   "execution_count": 13,
   "id": "d185678d",
   "metadata": {},
   "outputs": [],
   "source": [
    "# from sklearn.metrics.pairwise import cosine_similarity"
   ]
  },
  {
   "cell_type": "code",
   "execution_count": 14,
   "id": "80335603",
   "metadata": {},
   "outputs": [],
   "source": [
    "# array_vec_1 = np.array([[0.25,1.25]])\n",
    "# array_vec_2 = np.array([[1,1]]) "
   ]
  },
  {
   "cell_type": "code",
   "execution_count": 15,
   "id": "aff36afd",
   "metadata": {
    "scrolled": true
   },
   "outputs": [],
   "source": [
    "# print(cosine_similarity(array_vec_1,array_vec_2))"
   ]
  },
  {
   "cell_type": "code",
   "execution_count": null,
   "id": "3dbd4646",
   "metadata": {},
   "outputs": [],
   "source": []
  }
 ],
 "metadata": {
  "kernelspec": {
   "display_name": "Python 3 (ipykernel)",
   "language": "python",
   "name": "python3"
  },
  "language_info": {
   "codemirror_mode": {
    "name": "ipython",
    "version": 3
   },
   "file_extension": ".py",
   "mimetype": "text/x-python",
   "name": "python",
   "nbconvert_exporter": "python",
   "pygments_lexer": "ipython3",
   "version": "3.11.0"
  }
 },
 "nbformat": 4,
 "nbformat_minor": 5
}
