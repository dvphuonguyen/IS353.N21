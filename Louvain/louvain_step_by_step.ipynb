{
 "cells": [
  {
   "cell_type": "code",
   "execution_count": 1,
   "metadata": {},
   "outputs": [],
   "source": [
    "import numpy as np\n",
    "import matplotlib.pyplot as plt\n",
    "import pandas as pd"
   ]
  },
  {
   "cell_type": "code",
   "execution_count": 2,
   "metadata": {},
   "outputs": [],
   "source": [
    "def compute_adjacency_matrix(df):\n",
    "    # Xác định số lượng người dùng và số lượng phim duy nhất từ dữ liệu\n",
    "    unique_users = df.user_id.unique()\n",
    "    unique_movies = df.movie_id.unique()\n",
    "    num_users = len(unique_users)\n",
    "    num_movies = len(unique_movies)\n",
    "\n",
    "    # Tạo ma trận kề ban đầu với kích thước tương ứng với số lượng người dùng và phim\n",
    "    adjacency_matrix = np.zeros((num_users, num_movies))\n",
    "\n",
    "    # Đánh dấu 1 cho các liên kết giữa người dùng và phim trong dữ liệu Netflix\n",
    "    for user, movie in df[['user_id', 'movie_id']].values:\n",
    "        user_index = np.where(unique_users == int(user))[0][0]\n",
    "        movie_index = np.where(unique_movies == int(movie))[0][0]\n",
    "        adjacency_matrix[user_index, movie_index] = 1\n",
    "\n",
    "    return np.array(adjacency_matrix)"
   ]
  },
  {
   "cell_type": "code",
   "execution_count": 3,
   "metadata": {},
   "outputs": [],
   "source": [
    "def compute_user_weight_matrix(df):\n",
    "    # Xác định số lượng người dùng và số lượng phim duy nhất từ dữ liệu\n",
    "    unique_users = df.user_id.unique()\n",
    "    unique_movies = df.movie_id.unique()\n",
    "    num_users = len(unique_users)\n",
    "    num_movies = len(unique_movies)\n",
    "\n",
    "    # Tạo ma trận trọng số giữa người dùng với các người dùng khác\n",
    "    weight_matrix = np.zeros((num_users, num_users))\n",
    "    source_target = []\n",
    "\n",
    "    # Tính toán trọng số giữa người dùng với các người dùng khác\n",
    "    for i in range(num_users):\n",
    "        for j in range(i+1, num_users):\n",
    "            user1 = unique_users[i]\n",
    "            user2 = unique_users[j]\n",
    "            \n",
    "            # Tính số lượng phim chung đã xem\n",
    "            common_movies = set()\n",
    "            common_movies_user_1 = set()\n",
    "            common_movies_user_2 = set()\n",
    "            for user, movie in df[['user_id', 'movie_id']].values:\n",
    "                if user == user1:\n",
    "                    common_movies_user_1.add(int(movie))\n",
    "                elif user == user2:\n",
    "                    common_movies_user_2.add(int(movie))\n",
    "                common_movies = common_movies_user_1.intersection(common_movies_user_2)\n",
    "\n",
    "            # Gán trọng số tương tự nhau dựa trên số lượng phim chung đã xem\n",
    "            weight_matrix[i, j] = len(common_movies)\n",
    "            weight_matrix[j, i] = len(common_movies)\n",
    "            source_target.append([user1, user2, weight_matrix[i][j]])\n",
    "\n",
    "    return weight_matrix, np.array(source_target)"
   ]
  },
  {
   "cell_type": "code",
   "execution_count": 4,
   "metadata": {},
   "outputs": [],
   "source": [
    "def compute_sum_tot(source_target, source, target, update_source_target = None):\n",
    "    sum_source = 0\n",
    "    sum_target = 0\n",
    "    value_source_target = 0\n",
    "    if update_source_target == None: \n",
    "        for item in source_target:\n",
    "            if item[0] == source:\n",
    "                sum_source = sum_source + item[2]\n",
    "            elif item[0] == target:\n",
    "                sum_target = sum_target + item[2]\n",
    "            if item[0] == source and item[1] == target:\n",
    "                value_source_target = value_source_target + item[2]\n",
    "    else:\n",
    "        source= np.array(source)\n",
    "        target= np.array(target)\n",
    "        for key, item in update_source_target.items():\n",
    "            if item[0] in source:\n",
    "                sum_source = sum_source + item[2]\n",
    "            elif item[0] in target:\n",
    "                sum_target = sum_target + item[2]\n",
    "            if item[0] in source and item[1] in target:\n",
    "                value_source_target = value_source_target + item[2]\n",
    "    return sum_source + sum_target - value_source_target"
   ]
  },
  {
   "cell_type": "code",
   "execution_count": 5,
   "metadata": {},
   "outputs": [],
   "source": [
    "def compute_k_i(source_target, source, target, update_source_target = None):\n",
    "    k_i = 0\n",
    "\n",
    "    if update_source_target == None:\n",
    "        for item in source_target:\n",
    "            if item[0] == source and item[1] != target:\n",
    "                k_i = k_i + 1\n",
    "            elif item[0] == target:\n",
    "                k_i = k_i + 1\n",
    "            elif item[1] == target and item[0] != source:\n",
    "                k_i = k_i + 1\n",
    "            elif item[1] == source:\n",
    "                k_i = k_i + 1\n",
    "    else:\n",
    "        source= np.array(source)\n",
    "        target= np.array(target)\n",
    "        for key, item in update_source_target.items():\n",
    "            print(f'user1: {item[0]} --------- user2: {item[1]}')\n",
    "            if ((len(item[1]) > 1 or len(item[0]) > 1) and (item[0] in source or item[1] in source or item[0] in target or item[1] in target)) :\n",
    "                if (item[0] in source and item[1] in target):\n",
    "                    continue\n",
    "                else: \n",
    "                    if len(item[0]) > 1:\n",
    "                        k_i = k_i + len(item[0]) - 1  \n",
    "                    if len(item[1]) > 1:\n",
    "                        k_i = k_i + len(item[1]) - 1   \n",
    "                    # print(k_i)\n",
    "            if item[0] in source and item[1] not in target:\n",
    "                k_i  = k_i  + 1 ## 4\n",
    "                # print(k_i)\n",
    "            elif item[0] in target:\n",
    "                k_i = k_i + 1 ## 4\n",
    "                # print(k_i)\n",
    "            elif item[1] in target and item[0] not in source:\n",
    "                k_i = k_i + 1\n",
    "                # print(k_i)\n",
    "            elif item[1] in source:\n",
    "                k_i = k_i + 1\n",
    "                # print(k_i)\n",
    "    return k_i"
   ]
  },
  {
   "cell_type": "code",
   "execution_count": 6,
   "metadata": {},
   "outputs": [],
   "source": [
    "def sum_in_value(source_target, target):\n",
    "    sum_in_value = 0\n",
    "    if len(target) > 1: \n",
    "        for i in range(len(target)):\n",
    "            for j in range(i + 1, len(target)):\n",
    "                sum_in_value = sum_in_value + source_target[np.where((source_target[:, 0] == target[i]) & (source_target[:, 1] == target[j]))[0][0]][2]\n",
    "    return sum_in_value"
   ]
  },
  {
   "cell_type": "code",
   "execution_count": 7,
   "metadata": {},
   "outputs": [],
   "source": [
    "def k_in_value(group):\n",
    "    k_in_value = 0\n",
    "    if len(group) > 1: \n",
    "            for i in range(len(group)):\n",
    "                for j in range(i + 1, len(group)):\n",
    "                    print(f\"{group[i]}-------{group[j]}\")\n",
    "                    k_in_value = k_in_value + 1\n",
    "    return k_in_value"
   ]
  },
  {
   "cell_type": "code",
   "execution_count": 8,
   "metadata": {},
   "outputs": [],
   "source": [
    "def compute_k_i_in(source_target, source, group):\n",
    "    if len(group) <= 1:\n",
    "        k_i_in = 1\n",
    "    else: \n",
    "        k_i_in = 0\n",
    "        source = np.array(source)\n",
    "        group = np.array(group)\n",
    "        for item in source_target:\n",
    "            # print(f\"user1: {item[0]} --------- user2: {item[1]}\")\n",
    "            if (item[0] in source and item[1] in group) :\n",
    "                k_i_in = k_i_in + 1\n",
    "                # print(k_i_in)\n",
    "    return k_i_in + k_in_value(group)"
   ]
  },
  {
   "cell_type": "code",
   "execution_count": 9,
   "metadata": {},
   "outputs": [],
   "source": [
    "def compute_2_m(source_target, weight_matrix, update_source_target = None):\n",
    "    if update_source_target == None: \n",
    "        return np.sum(weight_matrix)\n",
    "    else:\n",
    "        _2m = 0\n",
    "        for key, item in update_source_target.items():\n",
    "            _2m = _2m + item[2]\n",
    "        return 2 * _2m"
   ]
  },
  {
   "cell_type": "code",
   "execution_count": 10,
   "metadata": {},
   "outputs": [],
   "source": [
    "def check_in_append(value_node, array_node):\n",
    "    count = 0\n",
    "    for i in value_node:\n",
    "        for j in range(len(array_node)):\n",
    "            if i in array_node[j]:\n",
    "                count = count + 1\n",
    "                break\n",
    "    if count == 0:\n",
    "        array_node.append(value_node)"
   ]
  },
  {
   "cell_type": "code",
   "execution_count": 11,
   "metadata": {},
   "outputs": [],
   "source": [
    "def check_in(value_node, usr):\n",
    "    count = 0\n",
    "    for i in value_node:\n",
    "        if i in usr:\n",
    "            count = count + 1\n",
    "            break\n",
    "    if count == 0:\n",
    "        return 0 #chua co\n",
    "    else:\n",
    "        return 1 #co"
   ]
  },
  {
   "cell_type": "code",
   "execution_count": 12,
   "metadata": {},
   "outputs": [],
   "source": [
    "def the_number_of_node_in_steps(df, partition, choose_node = None):\n",
    "    unique_users = df.user_id.unique()\n",
    "    if len(partition) == 0:\n",
    "            # unique_users = df.user_id.unique()\n",
    "            usr = []\n",
    "            for i in unique_users:\n",
    "                usr.append([i])\n",
    "            partition[0] = usr\n",
    "    else:\n",
    "            if len(choose_node) != 0:\n",
    "                array_node = []\n",
    "                for key, value in choose_node.items():\n",
    "                    if len(array_node) == 0:\n",
    "                        array_node.append(value[0])\n",
    "                    else:\n",
    "                        check_in_append(value[0], array_node)\n",
    "                print(array_node)\n",
    "            usr = []\n",
    "            if len(partition) == 1:\n",
    "                for i in range(len(array_node)):\n",
    "                    for j in range(len(array_node[i])):\n",
    "                        usr.append(array_node[i][j])\n",
    "                usr1 = [usr]\n",
    "                for i in unique_users:\n",
    "                    if check_in([i], usr) == 0:\n",
    "                        usr1.append([i])\n",
    "                partition[len(partition)] = usr1\n",
    "            else:\n",
    "                for i in range(len(array_node)):\n",
    "                    for j in range(len(array_node[i])):\n",
    "                        for k in range(len(array_node[i][j])):\n",
    "                            usr.append(array_node[i][j][k])\n",
    "                usr1 = [usr]\n",
    "                for i in unique_users:\n",
    "                    # print(i)\n",
    "                    if check_in([i], usr) == 0:\n",
    "                        usr1.append([i])\n",
    "                partition[len(partition)] = usr1"
   ]
  },
  {
   "cell_type": "code",
   "execution_count": 13,
   "metadata": {},
   "outputs": [],
   "source": [
    "def update_weight_source_target(partition, source_target):\n",
    "    # Xác định số lượng người dùng và số lượng phim duy nhất từ dữ liệu\n",
    "    last_key = list(partition)[-1]\n",
    "    unique_users = partition[last_key]\n",
    "    unique_users.sort()\n",
    "    num_users = len(unique_users)\n",
    "\n",
    "\n",
    "    # Tạo ma trận trọng số giữa người dùng với các người dùng khác\n",
    "    update_source_target = {}\n",
    "         \n",
    "    # Tính toán trọng số giữa người dùng với các người dùng khác\n",
    "    count = 0\n",
    "    for i in range(num_users):\n",
    "      for j in range(i+1, num_users):\n",
    "            user1 = unique_users[i]\n",
    "            user2 = unique_users[j]\n",
    "\n",
    "            # print(f'user1: {user1} ----------------- user2: {user2}')\n",
    "            weight_value = 0\n",
    "            for item1 in user1:\n",
    "                  for item2 in user2:\n",
    "                        weight_value = weight_value + source_target[np.where((source_target[:, 0] == item1) & (source_target[:, 1] == item2))[0][0]][2]\n",
    "            update_source_target[count] = [user1, user2, weight_value]\n",
    "            count = count + 1\n",
    "\n",
    "    return update_source_target"
   ]
  },
  {
   "cell_type": "code",
   "execution_count": 14,
   "metadata": {},
   "outputs": [
    {
     "data": {
      "text/html": [
       "<div>\n",
       "<style scoped>\n",
       "    .dataframe tbody tr th:only-of-type {\n",
       "        vertical-align: middle;\n",
       "    }\n",
       "\n",
       "    .dataframe tbody tr th {\n",
       "        vertical-align: top;\n",
       "    }\n",
       "\n",
       "    .dataframe thead th {\n",
       "        text-align: right;\n",
       "    }\n",
       "</style>\n",
       "<table border=\"1\" class=\"dataframe\">\n",
       "  <thead>\n",
       "    <tr style=\"text-align: right;\">\n",
       "      <th></th>\n",
       "      <th>user_id</th>\n",
       "      <th>movie_id</th>\n",
       "      <th>rating</th>\n",
       "    </tr>\n",
       "  </thead>\n",
       "  <tbody>\n",
       "    <tr>\n",
       "      <th>0</th>\n",
       "      <td>1</td>\n",
       "      <td>101</td>\n",
       "      <td>5</td>\n",
       "    </tr>\n",
       "    <tr>\n",
       "      <th>1</th>\n",
       "      <td>1</td>\n",
       "      <td>102</td>\n",
       "      <td>3</td>\n",
       "    </tr>\n",
       "    <tr>\n",
       "      <th>2</th>\n",
       "      <td>1</td>\n",
       "      <td>103</td>\n",
       "      <td>3</td>\n",
       "    </tr>\n",
       "    <tr>\n",
       "      <th>3</th>\n",
       "      <td>1</td>\n",
       "      <td>104</td>\n",
       "      <td>3</td>\n",
       "    </tr>\n",
       "    <tr>\n",
       "      <th>4</th>\n",
       "      <td>1</td>\n",
       "      <td>105</td>\n",
       "      <td>2</td>\n",
       "    </tr>\n",
       "  </tbody>\n",
       "</table>\n",
       "</div>"
      ],
      "text/plain": [
       "   user_id  movie_id  rating\n",
       "0        1       101       5\n",
       "1        1       102       3\n",
       "2        1       103       3\n",
       "3        1       104       3\n",
       "4        1       105       2"
      ]
     },
     "execution_count": 14,
     "metadata": {},
     "output_type": "execute_result"
    }
   ],
   "source": [
    "df = pd.read_csv(\"C:/Users/UYEN/OneDrive - Trường ĐH CNTT - University of Information Technology/Đại Học/Năm 4/Làm nhóm HK2 2022-2023/Mạng xã hội/FinalProject/RatingCSV.csv\")\n",
    "df.head(5)"
   ]
  },
  {
   "cell_type": "code",
   "execution_count": 15,
   "metadata": {},
   "outputs": [
    {
     "data": {
      "text/plain": [
       "array([[1., 1., 1., 1., 1., 1.],\n",
       "       [1., 1., 1., 1., 1., 1.],\n",
       "       [1., 0., 1., 1., 0., 1.],\n",
       "       [0., 0., 1., 1., 0., 1.],\n",
       "       [1., 1., 1., 0., 1., 1.],\n",
       "       [1., 0., 1., 1., 1., 1.],\n",
       "       [0., 0., 1., 1., 1., 0.]])"
      ]
     },
     "execution_count": 15,
     "metadata": {},
     "output_type": "execute_result"
    }
   ],
   "source": [
    "adjacency_matrix = compute_adjacency_matrix(df)\n",
    "adjacency_matrix"
   ]
  },
  {
   "cell_type": "code",
   "execution_count": 16,
   "metadata": {},
   "outputs": [],
   "source": [
    "weight_matrix, source_target = compute_user_weight_matrix(df)"
   ]
  },
  {
   "cell_type": "code",
   "execution_count": 17,
   "metadata": {},
   "outputs": [
    {
     "name": "stdout",
     "output_type": "stream",
     "text": [
      "[[0. 6. 4. 3. 5. 5. 3.]\n",
      " [6. 0. 4. 3. 5. 5. 3.]\n",
      " [4. 4. 0. 3. 3. 4. 2.]\n",
      " [3. 3. 3. 0. 2. 3. 2.]\n",
      " [5. 5. 3. 2. 0. 4. 2.]\n",
      " [5. 5. 4. 3. 4. 0. 3.]\n",
      " [3. 3. 2. 2. 2. 3. 0.]]\n"
     ]
    }
   ],
   "source": [
    "print(weight_matrix)"
   ]
  },
  {
   "cell_type": "code",
   "execution_count": 18,
   "metadata": {},
   "outputs": [
    {
     "name": "stdout",
     "output_type": "stream",
     "text": [
      "[[1. 2. 6.]\n",
      " [1. 3. 4.]\n",
      " [1. 4. 3.]\n",
      " [1. 5. 5.]\n",
      " [1. 6. 5.]\n",
      " [1. 7. 3.]\n",
      " [2. 3. 4.]\n",
      " [2. 4. 3.]\n",
      " [2. 5. 5.]\n",
      " [2. 6. 5.]\n",
      " [2. 7. 3.]\n",
      " [3. 4. 3.]\n",
      " [3. 5. 3.]\n",
      " [3. 6. 4.]\n",
      " [3. 7. 2.]\n",
      " [4. 5. 2.]\n",
      " [4. 6. 3.]\n",
      " [4. 7. 2.]\n",
      " [5. 6. 4.]\n",
      " [5. 7. 2.]\n",
      " [6. 7. 3.]]\n"
     ]
    }
   ],
   "source": [
    "print(source_target)"
   ]
  },
  {
   "cell_type": "code",
   "execution_count": 19,
   "metadata": {},
   "outputs": [
    {
     "data": {
      "text/plain": [
       "4.0"
      ]
     },
     "execution_count": 19,
     "metadata": {},
     "output_type": "execute_result"
    }
   ],
   "source": [
    "source_target[np.where((source_target[:, 0] == 5) & (source_target[:, 1] == 6))[0][0]][2]"
   ]
  },
  {
   "cell_type": "code",
   "execution_count": 20,
   "metadata": {},
   "outputs": [],
   "source": [
    "unique_users = df.user_id.unique()\n",
    "unique_movies = df.movie_id.unique()\n",
    "num_users = len(unique_users)\n",
    "num_movies = len(unique_movies)"
   ]
  },
  {
   "cell_type": "code",
   "execution_count": 21,
   "metadata": {},
   "outputs": [
    {
     "data": {
      "text/plain": [
       "{0: [[1], [2], [3], [4], [5], [6], [7]]}"
      ]
     },
     "execution_count": 21,
     "metadata": {},
     "output_type": "execute_result"
    }
   ],
   "source": [
    "partition = {}\n",
    "the_number_of_node_in_steps(df, partition)\n",
    "partition"
   ]
  },
  {
   "cell_type": "code",
   "execution_count": 22,
   "metadata": {},
   "outputs": [
    {
     "data": {
      "text/plain": [
       "7"
      ]
     },
     "execution_count": 22,
     "metadata": {},
     "output_type": "execute_result"
    }
   ],
   "source": [
    "num_nodes = adjacency_matrix.shape[0]\n",
    "num_nodes"
   ]
  },
  {
   "cell_type": "code",
   "execution_count": 23,
   "metadata": {},
   "outputs": [],
   "source": [
    "# num_nodes = adjacency_matrix.shape[0]\n",
    "# m = np.sum(adjacency_matrix) / 2\n",
    "# sum_tot = np.sum(adjacency_matrix, axis=1)\n",
    "# modularity = 0.0\n",
    "# print(num_nodes)\n",
    "# print(m)\n",
    "# print(sum_tot)\n",
    "# print(modularity)"
   ]
  },
  {
   "attachments": {},
   "cell_type": "markdown",
   "metadata": {},
   "source": [
    "# Lần 1"
   ]
  },
  {
   "cell_type": "code",
   "execution_count": 24,
   "metadata": {},
   "outputs": [],
   "source": [
    "#########Dang chay cai nay\n",
    "dict_partition = {}\n",
    "for i in range(len(source_target)):\n",
    "    # user_group, sum_in\n",
    "    user_group = [source_target[i][0], source_target[i][1]]\n",
    "    sum_in = source_target[i][2] + sum_in_value(source_target, [source_target[i][1]])\n",
    "    sum_tot = compute_sum_tot(source_target, source_target[i][0], source_target[i][1])\n",
    "    k_i_in = compute_k_i_in(source_target, [source_target[i][0]], [source_target[i][1]]) \n",
    "    k_i = compute_k_i(source_target, source_target[i][0], source_target[i][1])\n",
    "    _2m = compute_2_m(source_target, weight_matrix)\n",
    "    Q = ((sum_in + k_i_in)/(_2m) - ((sum_tot + k_i)/_2m)**2 - (sum_in/_2m - ((sum_tot/_2m)**2) - ((k_i)/_2m)**2))\n",
    "    #group - sum_in - sum_tot - k_i_in - k_i - 2m - Q\n",
    "    dict_partition[i] = [user_group, sum_in, sum_tot, k_i_in, k_i, _2m, Q]\n",
    "    "
   ]
  },
  {
   "cell_type": "code",
   "execution_count": 25,
   "metadata": {},
   "outputs": [
    {
     "data": {
      "text/plain": [
       "{0: [[1.0, 2.0], 6.0, 40.0, 1, 10, 148.0, -0.029766252739225695],\n",
       " 1: [[1.0, 3.0], 4.0, 34.0, 1, 10, 148.0, -0.02428780131482835],\n",
       " 2: [[1.0, 4.0], 3.0, 30.0, 1, 10, 148.0, -0.020635500365230097],\n",
       " 3: [[1.0, 5.0], 5.0, 27.0, 1, 10, 148.0, -0.01789627465303141],\n",
       " 4: [[1.0, 6.0], 5.0, 24.0, 1, 10, 148.0, -0.015157048940832727],\n",
       " 5: [[1.0, 7.0], 3.0, 23.0, 1, 10, 148.0, -0.014243973703433166],\n",
       " 6: [[2.0, 3.0], 4.0, 28.0, 1, 10, 148.0, -0.01880934989043096],\n",
       " 7: [[2.0, 4.0], 3.0, 24.0, 1, 10, 148.0, -0.015157048940832727],\n",
       " 8: [[2.0, 5.0], 5.0, 21.0, 1, 10, 148.0, -0.012417823228634037],\n",
       " 9: [[2.0, 6.0], 5.0, 18.0, 1, 10, 148.0, -0.009678597516435353],\n",
       " 10: [[2.0, 7.0], 3.0, 17.0, 1, 10, 148.0, -0.008765522279035789],\n",
       " 11: [[3.0, 4.0], 3.0, 16.0, 1, 10, 148.0, -0.007852447041636231],\n",
       " 12: [[3.0, 5.0], 3.0, 15.0, 1, 10, 148.0, -0.006939371804236665],\n",
       " 13: [[3.0, 6.0], 4.0, 11.0, 1, 10, 148.0, -0.0032870708546384186],\n",
       " 14: [[3.0, 7.0], 2.0, 10.0, 1, 10, 148.0, -0.002373995617238861],\n",
       " 15: [[4.0, 5.0], 2.0, 11.0, 1, 10, 148.0, -0.0032870708546384186],\n",
       " 16: [[4.0, 6.0], 3.0, 7.0, 1, 10, 148.0, 0.00036523009495982237],\n",
       " 17: [[4.0, 7.0], 2.0, 5.0, 1, 10, 148.0, 0.002191380569758948],\n",
       " 18: [[5.0, 6.0], 4.0, 5.0, 1, 10, 148.0, 0.002191380569758948],\n",
       " 19: [[5.0, 7.0], 2.0, 4.0, 1, 10, 148.0, 0.003104455807158511],\n",
       " 20: [[6.0, 7.0], 3.0, 0.0, 1, 10, 148.0, 0.006756756756756757]}"
      ]
     },
     "execution_count": 25,
     "metadata": {},
     "output_type": "execute_result"
    }
   ],
   "source": [
    "dict_partition"
   ]
  },
  {
   "cell_type": "code",
   "execution_count": 26,
   "metadata": {},
   "outputs": [
    {
     "data": {
      "text/plain": [
       "{20: [[6.0, 7.0], 3.0, 0.0, 1, 10, 148.0, 0.006756756756756757],\n",
       " 19: [[5.0, 7.0], 2.0, 4.0, 1, 10, 148.0, 0.003104455807158511],\n",
       " 18: [[5.0, 6.0], 4.0, 5.0, 1, 10, 148.0, 0.002191380569758948],\n",
       " 17: [[4.0, 7.0], 2.0, 5.0, 1, 10, 148.0, 0.002191380569758948],\n",
       " 16: [[4.0, 6.0], 3.0, 7.0, 1, 10, 148.0, 0.00036523009495982237]}"
      ]
     },
     "execution_count": 26,
     "metadata": {},
     "output_type": "execute_result"
    }
   ],
   "source": [
    "sorted_data = sorted(dict_partition.items(), key=lambda x: x[-1], reverse=True)\n",
    "choose_node = {}\n",
    "for key, value in sorted_data:\n",
    "    if value[-1] > 0:\n",
    "        choose_node[key] = value\n",
    "choose_node"
   ]
  },
  {
   "cell_type": "code",
   "execution_count": 27,
   "metadata": {},
   "outputs": [
    {
     "name": "stdout",
     "output_type": "stream",
     "text": [
      "[[6.0, 7.0]]\n"
     ]
    },
    {
     "data": {
      "text/plain": [
       "{0: [[1], [2], [3], [4], [5], [6], [7]],\n",
       " 1: [[6.0, 7.0], [1], [2], [3], [4], [5]]}"
      ]
     },
     "execution_count": 27,
     "metadata": {},
     "output_type": "execute_result"
    }
   ],
   "source": [
    "the_number_of_node_in_steps(df, partition, choose_node)\n",
    "partition"
   ]
  },
  {
   "attachments": {},
   "cell_type": "markdown",
   "metadata": {},
   "source": [
    "# Lần 2"
   ]
  },
  {
   "cell_type": "code",
   "execution_count": 28,
   "metadata": {},
   "outputs": [
    {
     "data": {
      "text/plain": [
       "{0: [[1], [2], 6.0],\n",
       " 1: [[1], [3], 4.0],\n",
       " 2: [[1], [4], 3.0],\n",
       " 3: [[1], [5], 5.0],\n",
       " 4: [[1], [6.0, 7.0], 8.0],\n",
       " 5: [[2], [3], 4.0],\n",
       " 6: [[2], [4], 3.0],\n",
       " 7: [[2], [5], 5.0],\n",
       " 8: [[2], [6.0, 7.0], 8.0],\n",
       " 9: [[3], [4], 3.0],\n",
       " 10: [[3], [5], 3.0],\n",
       " 11: [[3], [6.0, 7.0], 6.0],\n",
       " 12: [[4], [5], 2.0],\n",
       " 13: [[4], [6.0, 7.0], 5.0],\n",
       " 14: [[5], [6.0, 7.0], 6.0]}"
      ]
     },
     "execution_count": 28,
     "metadata": {},
     "output_type": "execute_result"
    }
   ],
   "source": [
    "update_source_target = update_weight_source_target(partition, source_target)\n",
    "update_source_target"
   ]
  },
  {
   "cell_type": "code",
   "execution_count": 29,
   "metadata": {},
   "outputs": [
    {
     "name": "stdout",
     "output_type": "stream",
     "text": [
      "user1: [1] --------- user2: [2]\n",
      "user1: [1] --------- user2: [3]\n",
      "user1: [1] --------- user2: [4]\n",
      "user1: [1] --------- user2: [5]\n",
      "user1: [1] --------- user2: [6.0, 7.0]\n",
      "user1: [2] --------- user2: [3]\n",
      "user1: [2] --------- user2: [4]\n",
      "user1: [2] --------- user2: [5]\n",
      "user1: [2] --------- user2: [6.0, 7.0]\n",
      "user1: [3] --------- user2: [4]\n",
      "user1: [3] --------- user2: [5]\n",
      "user1: [3] --------- user2: [6.0, 7.0]\n",
      "user1: [4] --------- user2: [5]\n",
      "user1: [4] --------- user2: [6.0, 7.0]\n",
      "user1: [5] --------- user2: [6.0, 7.0]\n",
      "user1: [1] --------- user2: [2]\n",
      "user1: [1] --------- user2: [3]\n",
      "user1: [1] --------- user2: [4]\n",
      "user1: [1] --------- user2: [5]\n",
      "user1: [1] --------- user2: [6.0, 7.0]\n",
      "user1: [2] --------- user2: [3]\n",
      "user1: [2] --------- user2: [4]\n",
      "user1: [2] --------- user2: [5]\n",
      "user1: [2] --------- user2: [6.0, 7.0]\n",
      "user1: [3] --------- user2: [4]\n",
      "user1: [3] --------- user2: [5]\n",
      "user1: [3] --------- user2: [6.0, 7.0]\n",
      "user1: [4] --------- user2: [5]\n",
      "user1: [4] --------- user2: [6.0, 7.0]\n",
      "user1: [5] --------- user2: [6.0, 7.0]\n",
      "user1: [1] --------- user2: [2]\n",
      "user1: [1] --------- user2: [3]\n",
      "user1: [1] --------- user2: [4]\n",
      "user1: [1] --------- user2: [5]\n",
      "user1: [1] --------- user2: [6.0, 7.0]\n",
      "user1: [2] --------- user2: [3]\n",
      "user1: [2] --------- user2: [4]\n",
      "user1: [2] --------- user2: [5]\n",
      "user1: [2] --------- user2: [6.0, 7.0]\n",
      "user1: [3] --------- user2: [4]\n",
      "user1: [3] --------- user2: [5]\n",
      "user1: [3] --------- user2: [6.0, 7.0]\n",
      "user1: [4] --------- user2: [5]\n",
      "user1: [4] --------- user2: [6.0, 7.0]\n",
      "user1: [5] --------- user2: [6.0, 7.0]\n",
      "user1: [1] --------- user2: [2]\n",
      "user1: [1] --------- user2: [3]\n",
      "user1: [1] --------- user2: [4]\n",
      "user1: [1] --------- user2: [5]\n",
      "user1: [1] --------- user2: [6.0, 7.0]\n",
      "user1: [2] --------- user2: [3]\n",
      "user1: [2] --------- user2: [4]\n",
      "user1: [2] --------- user2: [5]\n",
      "user1: [2] --------- user2: [6.0, 7.0]\n",
      "user1: [3] --------- user2: [4]\n",
      "user1: [3] --------- user2: [5]\n",
      "user1: [3] --------- user2: [6.0, 7.0]\n",
      "user1: [4] --------- user2: [5]\n",
      "user1: [4] --------- user2: [6.0, 7.0]\n",
      "user1: [5] --------- user2: [6.0, 7.0]\n",
      "6.0-------7.0\n",
      "user1: [1] --------- user2: [2]\n",
      "user1: [1] --------- user2: [3]\n",
      "user1: [1] --------- user2: [4]\n",
      "user1: [1] --------- user2: [5]\n",
      "user1: [1] --------- user2: [6.0, 7.0]\n",
      "user1: [2] --------- user2: [3]\n",
      "user1: [2] --------- user2: [4]\n",
      "user1: [2] --------- user2: [5]\n",
      "user1: [2] --------- user2: [6.0, 7.0]\n",
      "user1: [3] --------- user2: [4]\n",
      "user1: [3] --------- user2: [5]\n",
      "user1: [3] --------- user2: [6.0, 7.0]\n",
      "user1: [4] --------- user2: [5]\n",
      "user1: [4] --------- user2: [6.0, 7.0]\n",
      "user1: [5] --------- user2: [6.0, 7.0]\n",
      "user1: [1] --------- user2: [2]\n",
      "user1: [1] --------- user2: [3]\n",
      "user1: [1] --------- user2: [4]\n",
      "user1: [1] --------- user2: [5]\n",
      "user1: [1] --------- user2: [6.0, 7.0]\n",
      "user1: [2] --------- user2: [3]\n",
      "user1: [2] --------- user2: [4]\n",
      "user1: [2] --------- user2: [5]\n",
      "user1: [2] --------- user2: [6.0, 7.0]\n",
      "user1: [3] --------- user2: [4]\n",
      "user1: [3] --------- user2: [5]\n",
      "user1: [3] --------- user2: [6.0, 7.0]\n",
      "user1: [4] --------- user2: [5]\n",
      "user1: [4] --------- user2: [6.0, 7.0]\n",
      "user1: [5] --------- user2: [6.0, 7.0]\n",
      "user1: [1] --------- user2: [2]\n",
      "user1: [1] --------- user2: [3]\n",
      "user1: [1] --------- user2: [4]\n",
      "user1: [1] --------- user2: [5]\n",
      "user1: [1] --------- user2: [6.0, 7.0]\n",
      "user1: [2] --------- user2: [3]\n",
      "user1: [2] --------- user2: [4]\n",
      "user1: [2] --------- user2: [5]\n",
      "user1: [2] --------- user2: [6.0, 7.0]\n",
      "user1: [3] --------- user2: [4]\n",
      "user1: [3] --------- user2: [5]\n",
      "user1: [3] --------- user2: [6.0, 7.0]\n",
      "user1: [4] --------- user2: [5]\n",
      "user1: [4] --------- user2: [6.0, 7.0]\n",
      "user1: [5] --------- user2: [6.0, 7.0]\n",
      "user1: [1] --------- user2: [2]\n",
      "user1: [1] --------- user2: [3]\n",
      "user1: [1] --------- user2: [4]\n",
      "user1: [1] --------- user2: [5]\n",
      "user1: [1] --------- user2: [6.0, 7.0]\n",
      "user1: [2] --------- user2: [3]\n",
      "user1: [2] --------- user2: [4]\n",
      "user1: [2] --------- user2: [5]\n",
      "user1: [2] --------- user2: [6.0, 7.0]\n",
      "user1: [3] --------- user2: [4]\n",
      "user1: [3] --------- user2: [5]\n",
      "user1: [3] --------- user2: [6.0, 7.0]\n",
      "user1: [4] --------- user2: [5]\n",
      "user1: [4] --------- user2: [6.0, 7.0]\n",
      "user1: [5] --------- user2: [6.0, 7.0]\n",
      "6.0-------7.0\n",
      "user1: [1] --------- user2: [2]\n",
      "user1: [1] --------- user2: [3]\n",
      "user1: [1] --------- user2: [4]\n",
      "user1: [1] --------- user2: [5]\n",
      "user1: [1] --------- user2: [6.0, 7.0]\n",
      "user1: [2] --------- user2: [3]\n",
      "user1: [2] --------- user2: [4]\n",
      "user1: [2] --------- user2: [5]\n",
      "user1: [2] --------- user2: [6.0, 7.0]\n",
      "user1: [3] --------- user2: [4]\n",
      "user1: [3] --------- user2: [5]\n",
      "user1: [3] --------- user2: [6.0, 7.0]\n",
      "user1: [4] --------- user2: [5]\n",
      "user1: [4] --------- user2: [6.0, 7.0]\n",
      "user1: [5] --------- user2: [6.0, 7.0]\n",
      "user1: [1] --------- user2: [2]\n",
      "user1: [1] --------- user2: [3]\n",
      "user1: [1] --------- user2: [4]\n",
      "user1: [1] --------- user2: [5]\n",
      "user1: [1] --------- user2: [6.0, 7.0]\n",
      "user1: [2] --------- user2: [3]\n",
      "user1: [2] --------- user2: [4]\n",
      "user1: [2] --------- user2: [5]\n",
      "user1: [2] --------- user2: [6.0, 7.0]\n",
      "user1: [3] --------- user2: [4]\n",
      "user1: [3] --------- user2: [5]\n",
      "user1: [3] --------- user2: [6.0, 7.0]\n",
      "user1: [4] --------- user2: [5]\n",
      "user1: [4] --------- user2: [6.0, 7.0]\n",
      "user1: [5] --------- user2: [6.0, 7.0]\n",
      "user1: [1] --------- user2: [2]\n",
      "user1: [1] --------- user2: [3]\n",
      "user1: [1] --------- user2: [4]\n",
      "user1: [1] --------- user2: [5]\n",
      "user1: [1] --------- user2: [6.0, 7.0]\n",
      "user1: [2] --------- user2: [3]\n",
      "user1: [2] --------- user2: [4]\n",
      "user1: [2] --------- user2: [5]\n",
      "user1: [2] --------- user2: [6.0, 7.0]\n",
      "user1: [3] --------- user2: [4]\n",
      "user1: [3] --------- user2: [5]\n",
      "user1: [3] --------- user2: [6.0, 7.0]\n",
      "user1: [4] --------- user2: [5]\n",
      "user1: [4] --------- user2: [6.0, 7.0]\n",
      "user1: [5] --------- user2: [6.0, 7.0]\n",
      "6.0-------7.0\n",
      "user1: [1] --------- user2: [2]\n",
      "user1: [1] --------- user2: [3]\n",
      "user1: [1] --------- user2: [4]\n",
      "user1: [1] --------- user2: [5]\n",
      "user1: [1] --------- user2: [6.0, 7.0]\n",
      "user1: [2] --------- user2: [3]\n",
      "user1: [2] --------- user2: [4]\n",
      "user1: [2] --------- user2: [5]\n",
      "user1: [2] --------- user2: [6.0, 7.0]\n",
      "user1: [3] --------- user2: [4]\n",
      "user1: [3] --------- user2: [5]\n",
      "user1: [3] --------- user2: [6.0, 7.0]\n",
      "user1: [4] --------- user2: [5]\n",
      "user1: [4] --------- user2: [6.0, 7.0]\n",
      "user1: [5] --------- user2: [6.0, 7.0]\n",
      "user1: [1] --------- user2: [2]\n",
      "user1: [1] --------- user2: [3]\n",
      "user1: [1] --------- user2: [4]\n",
      "user1: [1] --------- user2: [5]\n",
      "user1: [1] --------- user2: [6.0, 7.0]\n",
      "user1: [2] --------- user2: [3]\n",
      "user1: [2] --------- user2: [4]\n",
      "user1: [2] --------- user2: [5]\n",
      "user1: [2] --------- user2: [6.0, 7.0]\n",
      "user1: [3] --------- user2: [4]\n",
      "user1: [3] --------- user2: [5]\n",
      "user1: [3] --------- user2: [6.0, 7.0]\n",
      "user1: [4] --------- user2: [5]\n",
      "user1: [4] --------- user2: [6.0, 7.0]\n",
      "user1: [5] --------- user2: [6.0, 7.0]\n",
      "6.0-------7.0\n",
      "user1: [1] --------- user2: [2]\n",
      "user1: [1] --------- user2: [3]\n",
      "user1: [1] --------- user2: [4]\n",
      "user1: [1] --------- user2: [5]\n",
      "user1: [1] --------- user2: [6.0, 7.0]\n",
      "user1: [2] --------- user2: [3]\n",
      "user1: [2] --------- user2: [4]\n",
      "user1: [2] --------- user2: [5]\n",
      "user1: [2] --------- user2: [6.0, 7.0]\n",
      "user1: [3] --------- user2: [4]\n",
      "user1: [3] --------- user2: [5]\n",
      "user1: [3] --------- user2: [6.0, 7.0]\n",
      "user1: [4] --------- user2: [5]\n",
      "user1: [4] --------- user2: [6.0, 7.0]\n",
      "user1: [5] --------- user2: [6.0, 7.0]\n",
      "6.0-------7.0\n",
      "user1: [1] --------- user2: [2]\n",
      "user1: [1] --------- user2: [3]\n",
      "user1: [1] --------- user2: [4]\n",
      "user1: [1] --------- user2: [5]\n",
      "user1: [1] --------- user2: [6.0, 7.0]\n",
      "user1: [2] --------- user2: [3]\n",
      "user1: [2] --------- user2: [4]\n",
      "user1: [2] --------- user2: [5]\n",
      "user1: [2] --------- user2: [6.0, 7.0]\n",
      "user1: [3] --------- user2: [4]\n",
      "user1: [3] --------- user2: [5]\n",
      "user1: [3] --------- user2: [6.0, 7.0]\n",
      "user1: [4] --------- user2: [5]\n",
      "user1: [4] --------- user2: [6.0, 7.0]\n",
      "user1: [5] --------- user2: [6.0, 7.0]\n"
     ]
    }
   ],
   "source": [
    "#########Dang chay cai nay\n",
    "dict_partition = {}\n",
    "for i in range(len(update_source_target)):\n",
    "    # user_group, sum_in\n",
    "    # print(f\"user1: {update_source_target[i][0]} ------ user2: {update_source_target[i][1]}\")\n",
    "    # print(f\"weight: {update_source_target[i][2]}\")\n",
    "    user_group = [update_source_target[i][0], update_source_target[i][1]]\n",
    "    sum_in = update_source_target[i][2] + sum_in_value(source_target, update_source_target[i][1])\n",
    "    # print(f\"user group: {user_group} --------- weight: {sum_in}\")\n",
    "    sum_tot = compute_sum_tot(source_target, update_source_target[i][0], update_source_target[i][1], update_source_target)\n",
    "    k_i_in = compute_k_i_in(source_target, update_source_target[i][0], update_source_target[i][1])\n",
    "    k_i = compute_k_i(source_target, update_source_target[i][0], update_source_target[i][1], update_source_target)\n",
    "    _2m = compute_2_m(source_target, weight_matrix, update_source_target)\n",
    "    Q = ((sum_in + k_i_in)/(_2m) - ((sum_tot + k_i)/_2m)**2 - (sum_in/_2m - ((sum_tot/_2m)**2) - ((k_i)/_2m)**2))\n",
    "    # print(f\"sum_in: {sum_in}-------sum_tot: {sum_tot}---------k_i_in: {k_i_in}-----k_i:{k_i}-----2m:{_2m}---Q: {Q}\")\n",
    "    # #group - sum_in - sum_tot - k_i_in - k_i - 2m - Q\n",
    "    dict_partition[i] = [user_group, sum_in, sum_tot, k_i_in, k_i, _2m, Q]\n",
    "    "
   ]
  },
  {
   "cell_type": "code",
   "execution_count": 30,
   "metadata": {},
   "outputs": [
    {
     "data": {
      "text/plain": [
       "{0: [[[1], [2]], 6.0, 40.0, 1, 10, 142.0, -0.03263241420353103],\n",
       " 1: [[[1], [3]], 4.0, 34.0, 1, 10, 142.0, -0.02668121404483237],\n",
       " 2: [[[1], [4]], 3.0, 30.0, 1, 10, 142.0, -0.022713747272366597],\n",
       " 3: [[[1], [5]], 5.0, 27.0, 1, 10, 142.0, -0.019738147193017256],\n",
       " 4: [[[1], [6.0, 7.0]], 11.0, 18.0, 3, 12, 142.0, -0.00029756000793493276],\n",
       " 5: [[[2], [3]], 4.0, 28.0, 1, 10, 142.0, -0.020730013886133693],\n",
       " 6: [[[2], [4]], 3.0, 24.0, 1, 10, 142.0, -0.01676254711366792],\n",
       " 7: [[[2], [5]], 5.0, 21.0, 1, 10, 142.0, -0.013786947034318587],\n",
       " 8: [[[2], [6.0, 7.0]], 11.0, 12.0, 3, 12, 142.0, 0.006843880182503467],\n",
       " 9: [[[3], [4]], 3.0, 16.0, 1, 10, 142.0, -0.008827613568736365],\n",
       " 10: [[[3], [5]], 3.0, 15.0, 1, 10, 142.0, -0.007835746875619911],\n",
       " 11: [[[3], [6.0, 7.0]], 9.0, 6.0, 3, 12, 142.0, 0.013985320372941881],\n",
       " 12: [[[4], [5]], 2.0, 11.0, 1, 10, 142.0, -0.0038682801031541354],\n",
       " 13: [[[4], [6.0, 7.0]], 8.0, 2.0, 3, 12, 142.0, 0.018746280499900812],\n",
       " 14: [[[5], [6.0, 7.0]], 9.0, 0.0, 3, 12, 142.0, 0.021126760563380288]}"
      ]
     },
     "execution_count": 30,
     "metadata": {},
     "output_type": "execute_result"
    }
   ],
   "source": [
    "dict_partition"
   ]
  },
  {
   "cell_type": "code",
   "execution_count": 31,
   "metadata": {},
   "outputs": [
    {
     "data": {
      "text/plain": [
       "{14: [[[5], [6.0, 7.0]], 9.0, 0.0, 3, 12, 142.0, 0.021126760563380288],\n",
       " 13: [[[4], [6.0, 7.0]], 8.0, 2.0, 3, 12, 142.0, 0.018746280499900812],\n",
       " 11: [[[3], [6.0, 7.0]], 9.0, 6.0, 3, 12, 142.0, 0.013985320372941881],\n",
       " 8: [[[2], [6.0, 7.0]], 11.0, 12.0, 3, 12, 142.0, 0.006843880182503467]}"
      ]
     },
     "execution_count": 31,
     "metadata": {},
     "output_type": "execute_result"
    }
   ],
   "source": [
    "sorted_data = sorted(dict_partition.items(), key=lambda x: x[-1], reverse=True)\n",
    "choose_node = {}\n",
    "for key, value in sorted_data:\n",
    "    if value[-1] > 0:\n",
    "        choose_node[key] = value\n",
    "choose_node"
   ]
  },
  {
   "cell_type": "code",
   "execution_count": 32,
   "metadata": {},
   "outputs": [
    {
     "name": "stdout",
     "output_type": "stream",
     "text": [
      "[[[5], [6.0, 7.0]]]\n"
     ]
    },
    {
     "data": {
      "text/plain": [
       "{0: [[1], [2], [3], [4], [5], [6], [7]],\n",
       " 1: [[1], [2], [3], [4], [5], [6.0, 7.0]],\n",
       " 2: [[5, 6.0, 7.0], [1], [2], [3], [4]]}"
      ]
     },
     "execution_count": 32,
     "metadata": {},
     "output_type": "execute_result"
    }
   ],
   "source": [
    "the_number_of_node_in_steps(df, partition, choose_node)\n",
    "partition"
   ]
  },
  {
   "attachments": {},
   "cell_type": "markdown",
   "metadata": {},
   "source": [
    "# Lần 3"
   ]
  },
  {
   "cell_type": "code",
   "execution_count": 33,
   "metadata": {},
   "outputs": [
    {
     "data": {
      "text/plain": [
       "{0: [[1], [2], 6.0],\n",
       " 1: [[1], [3], 4.0],\n",
       " 2: [[1], [4], 3.0],\n",
       " 3: [[1], [5, 6.0, 7.0], 13.0],\n",
       " 4: [[2], [3], 4.0],\n",
       " 5: [[2], [4], 3.0],\n",
       " 6: [[2], [5, 6.0, 7.0], 13.0],\n",
       " 7: [[3], [4], 3.0],\n",
       " 8: [[3], [5, 6.0, 7.0], 9.0],\n",
       " 9: [[4], [5, 6.0, 7.0], 7.0]}"
      ]
     },
     "execution_count": 33,
     "metadata": {},
     "output_type": "execute_result"
    }
   ],
   "source": [
    "update_source_target = update_weight_source_target(partition, source_target)\n",
    "update_source_target"
   ]
  },
  {
   "cell_type": "code",
   "execution_count": 34,
   "metadata": {},
   "outputs": [],
   "source": [
    "def compute_sum_tot(source_target, source, target, update_source_target = None):\n",
    "    sum_source = 0\n",
    "    sum_target = 0\n",
    "    value_source_target = 0\n",
    "    if update_source_target == None: \n",
    "        for item in source_target:\n",
    "            if item[0] == source:\n",
    "                sum_source = sum_source + item[2]\n",
    "            elif item[0] == target:\n",
    "                sum_target = sum_target + item[2]\n",
    "            if item[0] == source and item[1] == target:\n",
    "                value_source_target = value_source_target + item[2]\n",
    "    else:\n",
    "        source= np.array(source)\n",
    "        target= np.array(target)\n",
    "        for key, item in update_source_target.items():\n",
    "            if item[0] in source:\n",
    "                sum_source = sum_source + item[2]\n",
    "            elif item[0] in target:\n",
    "                sum_target = sum_target + item[2]\n",
    "            if item[0] in source and item[1] in target:\n",
    "                value_source_target = value_source_target + item[2]\n",
    "    return sum_source + sum_target - value_source_target"
   ]
  },
  {
   "cell_type": "code",
   "execution_count": 35,
   "metadata": {},
   "outputs": [],
   "source": [
    "sum_source = 0\n",
    "sum_target = 0"
   ]
  },
  {
   "cell_type": "code",
   "execution_count": 36,
   "metadata": {},
   "outputs": [],
   "source": [
    "source= np.array([1])\n",
    "target= np.array([2])"
   ]
  },
  {
   "cell_type": "code",
   "execution_count": 37,
   "metadata": {},
   "outputs": [
    {
     "name": "stdout",
     "output_type": "stream",
     "text": [
      "user1: [1] --------- user2: [2]\n",
      "user1: [1] --------- user2: [3]\n",
      "user1: [1] --------- user2: [4]\n",
      "user1: [1] --------- user2: [5, 6.0, 7.0]\n",
      "user1: [2] --------- user2: [3]\n",
      "user1: [2] --------- user2: [4]\n",
      "user1: [2] --------- user2: [5, 6.0, 7.0]\n",
      "user1: [3] --------- user2: [4]\n",
      "user1: [3] --------- user2: [5, 6.0, 7.0]\n",
      "user1: [4] --------- user2: [5, 6.0, 7.0]\n",
      "user1: [1] --------- user2: [2]\n",
      "user1: [1] --------- user2: [3]\n",
      "user1: [1] --------- user2: [4]\n",
      "user1: [1] --------- user2: [5, 6.0, 7.0]\n",
      "user1: [2] --------- user2: [3]\n",
      "user1: [2] --------- user2: [4]\n",
      "user1: [2] --------- user2: [5, 6.0, 7.0]\n",
      "user1: [3] --------- user2: [4]\n",
      "user1: [3] --------- user2: [5, 6.0, 7.0]\n",
      "user1: [4] --------- user2: [5, 6.0, 7.0]\n",
      "user1: [1] --------- user2: [2]\n",
      "user1: [1] --------- user2: [3]\n",
      "user1: [1] --------- user2: [4]\n",
      "user1: [1] --------- user2: [5, 6.0, 7.0]\n",
      "user1: [2] --------- user2: [3]\n",
      "user1: [2] --------- user2: [4]\n",
      "user1: [2] --------- user2: [5, 6.0, 7.0]\n",
      "user1: [3] --------- user2: [4]\n",
      "user1: [3] --------- user2: [5, 6.0, 7.0]\n",
      "user1: [4] --------- user2: [5, 6.0, 7.0]\n",
      "5.0-------6.0\n",
      "5.0-------7.0\n",
      "6.0-------7.0\n",
      "user1: [1] --------- user2: [2]\n",
      "user1: [1] --------- user2: [3]\n",
      "user1: [1] --------- user2: [4]\n",
      "user1: [1] --------- user2: [5, 6.0, 7.0]\n",
      "user1: [2] --------- user2: [3]\n",
      "user1: [2] --------- user2: [4]\n",
      "user1: [2] --------- user2: [5, 6.0, 7.0]\n",
      "user1: [3] --------- user2: [4]\n",
      "user1: [3] --------- user2: [5, 6.0, 7.0]\n",
      "user1: [4] --------- user2: [5, 6.0, 7.0]\n",
      "user1: [1] --------- user2: [2]\n",
      "user1: [1] --------- user2: [3]\n",
      "user1: [1] --------- user2: [4]\n",
      "user1: [1] --------- user2: [5, 6.0, 7.0]\n",
      "user1: [2] --------- user2: [3]\n",
      "user1: [2] --------- user2: [4]\n",
      "user1: [2] --------- user2: [5, 6.0, 7.0]\n",
      "user1: [3] --------- user2: [4]\n",
      "user1: [3] --------- user2: [5, 6.0, 7.0]\n",
      "user1: [4] --------- user2: [5, 6.0, 7.0]\n",
      "user1: [1] --------- user2: [2]\n",
      "user1: [1] --------- user2: [3]\n",
      "user1: [1] --------- user2: [4]\n",
      "user1: [1] --------- user2: [5, 6.0, 7.0]\n",
      "user1: [2] --------- user2: [3]\n",
      "user1: [2] --------- user2: [4]\n",
      "user1: [2] --------- user2: [5, 6.0, 7.0]\n",
      "user1: [3] --------- user2: [4]\n",
      "user1: [3] --------- user2: [5, 6.0, 7.0]\n",
      "user1: [4] --------- user2: [5, 6.0, 7.0]\n",
      "5.0-------6.0\n",
      "5.0-------7.0\n",
      "6.0-------7.0\n",
      "user1: [1] --------- user2: [2]\n",
      "user1: [1] --------- user2: [3]\n",
      "user1: [1] --------- user2: [4]\n",
      "user1: [1] --------- user2: [5, 6.0, 7.0]\n",
      "user1: [2] --------- user2: [3]\n",
      "user1: [2] --------- user2: [4]\n",
      "user1: [2] --------- user2: [5, 6.0, 7.0]\n",
      "user1: [3] --------- user2: [4]\n",
      "user1: [3] --------- user2: [5, 6.0, 7.0]\n",
      "user1: [4] --------- user2: [5, 6.0, 7.0]\n",
      "user1: [1] --------- user2: [2]\n",
      "user1: [1] --------- user2: [3]\n",
      "user1: [1] --------- user2: [4]\n",
      "user1: [1] --------- user2: [5, 6.0, 7.0]\n",
      "user1: [2] --------- user2: [3]\n",
      "user1: [2] --------- user2: [4]\n",
      "user1: [2] --------- user2: [5, 6.0, 7.0]\n",
      "user1: [3] --------- user2: [4]\n",
      "user1: [3] --------- user2: [5, 6.0, 7.0]\n",
      "user1: [4] --------- user2: [5, 6.0, 7.0]\n",
      "5.0-------6.0\n",
      "5.0-------7.0\n",
      "6.0-------7.0\n",
      "user1: [1] --------- user2: [2]\n",
      "user1: [1] --------- user2: [3]\n",
      "user1: [1] --------- user2: [4]\n",
      "user1: [1] --------- user2: [5, 6.0, 7.0]\n",
      "user1: [2] --------- user2: [3]\n",
      "user1: [2] --------- user2: [4]\n",
      "user1: [2] --------- user2: [5, 6.0, 7.0]\n",
      "user1: [3] --------- user2: [4]\n",
      "user1: [3] --------- user2: [5, 6.0, 7.0]\n",
      "user1: [4] --------- user2: [5, 6.0, 7.0]\n",
      "5.0-------6.0\n",
      "5.0-------7.0\n",
      "6.0-------7.0\n",
      "user1: [1] --------- user2: [2]\n",
      "user1: [1] --------- user2: [3]\n",
      "user1: [1] --------- user2: [4]\n",
      "user1: [1] --------- user2: [5, 6.0, 7.0]\n",
      "user1: [2] --------- user2: [3]\n",
      "user1: [2] --------- user2: [4]\n",
      "user1: [2] --------- user2: [5, 6.0, 7.0]\n",
      "user1: [3] --------- user2: [4]\n",
      "user1: [3] --------- user2: [5, 6.0, 7.0]\n",
      "user1: [4] --------- user2: [5, 6.0, 7.0]\n"
     ]
    }
   ],
   "source": [
    "#########Dang chay cai nay\n",
    "dict_partition = {}\n",
    "for i in range(len(update_source_target)):\n",
    "    # # user_group, sum_in\n",
    "    # print(f\"user1: {update_source_target[i][0]} ------ user2: {update_source_target[i][1]}\")\n",
    "    # print(f\"weight: {update_source_target[i][2]}\")\n",
    "    user_group = [update_source_target[i][0], update_source_target[i][1]]\n",
    "    sum_in = update_source_target[i][2] + sum_in_value(source_target, update_source_target[i][1])\n",
    "    # print(f\"user group: {user_group} --------- weight: {sum_in}\")\n",
    "    sum_tot = compute_sum_tot(source_target, update_source_target[i][0], update_source_target[i][1], update_source_target)\n",
    "    k_i_in = compute_k_i_in(source_target, update_source_target[i][0], update_source_target[i][1])\n",
    "    k_i = compute_k_i(source_target, update_source_target[i][0], update_source_target[i][1], update_source_target)\n",
    "    _2m = compute_2_m(source_target, weight_matrix, update_source_target)\n",
    "    Q = ((sum_in + k_i_in)/(_2m) - ((sum_tot + k_i)/_2m)**2 - (sum_in/_2m - ((sum_tot/_2m)**2) - ((k_i)/_2m)**2))\n",
    "    # print(f\"sum_in: {sum_in}-------sum_tot: {sum_tot}---------k_i_in: {k_i_in}-----k_i:{k_i}-----2m:{_2m}---Q: {Q}\")\n",
    "    # #group - sum_in - sum_tot - k_i_in - k_i - 2m - Q\n",
    "    dict_partition[i] = [user_group, sum_in, sum_tot, k_i_in, k_i, _2m, Q]\n",
    "    "
   ]
  },
  {
   "cell_type": "code",
   "execution_count": 38,
   "metadata": {},
   "outputs": [
    {
     "data": {
      "text/plain": [
       "{0: [[[1], [2]], 6.0, 40.0, 1, 10, 130.0, -0.039644970414201175],\n",
       " 1: [[[1], [3]], 4.0, 34.0, 1, 10, 130.0, -0.032544378698224866],\n",
       " 2: [[[1], [4]], 3.0, 30.0, 1, 10, 130.0, -0.027810650887573965],\n",
       " 3: [[[1], [5, 6.0, 7.0]], 22.0, 13.0, 6, 12, 130.0, 0.02769230769230771],\n",
       " 4: [[[2], [3]], 4.0, 28.0, 1, 10, 130.0, -0.02544378698224852],\n",
       " 5: [[[2], [4]], 3.0, 24.0, 1, 10, 130.0, -0.020710059171597628],\n",
       " 6: [[[2], [5, 6.0, 7.0]], 22.0, 7.0, 6, 12, 130.0, 0.03621301775147928],\n",
       " 7: [[[3], [4]], 3.0, 16.0, 1, 10, 130.0, -0.011242603550295863],\n",
       " 8: [[[3], [5, 6.0, 7.0]], 18.0, 3.0, 6, 12, 130.0, 0.04189349112426036],\n",
       " 9: [[[4], [5, 6.0, 7.0]], 16.0, 0.0, 6, 12, 130.0, 0.046153846153846156]}"
      ]
     },
     "execution_count": 38,
     "metadata": {},
     "output_type": "execute_result"
    }
   ],
   "source": [
    "dict_partition"
   ]
  },
  {
   "cell_type": "code",
   "execution_count": 39,
   "metadata": {},
   "outputs": [
    {
     "data": {
      "text/plain": [
       "{9: [[[4], [5, 6.0, 7.0]], 16.0, 0.0, 6, 12, 130.0, 0.046153846153846156],\n",
       " 8: [[[3], [5, 6.0, 7.0]], 18.0, 3.0, 6, 12, 130.0, 0.04189349112426036],\n",
       " 6: [[[2], [5, 6.0, 7.0]], 22.0, 7.0, 6, 12, 130.0, 0.03621301775147928],\n",
       " 3: [[[1], [5, 6.0, 7.0]], 22.0, 13.0, 6, 12, 130.0, 0.02769230769230771]}"
      ]
     },
     "execution_count": 39,
     "metadata": {},
     "output_type": "execute_result"
    }
   ],
   "source": [
    "sorted_data = sorted(dict_partition.items(), key=lambda x: x[-1], reverse=True)\n",
    "choose_node = {}\n",
    "for key, value in sorted_data:\n",
    "    if value[-1] > 0:\n",
    "        choose_node[key] = value\n",
    "choose_node"
   ]
  },
  {
   "cell_type": "code",
   "execution_count": 40,
   "metadata": {},
   "outputs": [
    {
     "name": "stdout",
     "output_type": "stream",
     "text": [
      "[[[4], [5, 6.0, 7.0]]]\n"
     ]
    },
    {
     "data": {
      "text/plain": [
       "{0: [[1], [2], [3], [4], [5], [6], [7]],\n",
       " 1: [[1], [2], [3], [4], [5], [6.0, 7.0]],\n",
       " 2: [[1], [2], [3], [4], [5, 6.0, 7.0]],\n",
       " 3: [[4, 5, 6.0, 7.0], [1], [2], [3]]}"
      ]
     },
     "execution_count": 40,
     "metadata": {},
     "output_type": "execute_result"
    }
   ],
   "source": [
    "the_number_of_node_in_steps(df, partition, choose_node)\n",
    "partition"
   ]
  },
  {
   "attachments": {},
   "cell_type": "markdown",
   "metadata": {},
   "source": [
    "# Lần 4"
   ]
  },
  {
   "cell_type": "code",
   "execution_count": 41,
   "metadata": {},
   "outputs": [
    {
     "data": {
      "text/plain": [
       "{0: [[1], [2], 6.0],\n",
       " 1: [[1], [3], 4.0],\n",
       " 2: [[1], [4, 5, 6.0, 7.0], 16.0],\n",
       " 3: [[2], [3], 4.0],\n",
       " 4: [[2], [4, 5, 6.0, 7.0], 16.0],\n",
       " 5: [[3], [4, 5, 6.0, 7.0], 12.0]}"
      ]
     },
     "execution_count": 41,
     "metadata": {},
     "output_type": "execute_result"
    }
   ],
   "source": [
    "update_source_target = update_weight_source_target(partition, source_target)\n",
    "update_source_target"
   ]
  },
  {
   "cell_type": "code",
   "execution_count": 42,
   "metadata": {},
   "outputs": [
    {
     "name": "stdout",
     "output_type": "stream",
     "text": [
      "user1: [1] --------- user2: [2]\n",
      "user1: [1] --------- user2: [3]\n",
      "user1: [1] --------- user2: [4, 5, 6.0, 7.0]\n",
      "user1: [2] --------- user2: [3]\n",
      "user1: [2] --------- user2: [4, 5, 6.0, 7.0]\n",
      "user1: [3] --------- user2: [4, 5, 6.0, 7.0]\n",
      "user1: [1] --------- user2: [2]\n",
      "user1: [1] --------- user2: [3]\n",
      "user1: [1] --------- user2: [4, 5, 6.0, 7.0]\n",
      "user1: [2] --------- user2: [3]\n",
      "user1: [2] --------- user2: [4, 5, 6.0, 7.0]\n",
      "user1: [3] --------- user2: [4, 5, 6.0, 7.0]\n",
      "4.0-------5.0\n",
      "4.0-------6.0\n",
      "4.0-------7.0\n",
      "5.0-------6.0\n",
      "5.0-------7.0\n",
      "6.0-------7.0\n",
      "user1: [1] --------- user2: [2]\n",
      "user1: [1] --------- user2: [3]\n",
      "user1: [1] --------- user2: [4, 5, 6.0, 7.0]\n",
      "user1: [2] --------- user2: [3]\n",
      "user1: [2] --------- user2: [4, 5, 6.0, 7.0]\n",
      "user1: [3] --------- user2: [4, 5, 6.0, 7.0]\n",
      "user1: [1] --------- user2: [2]\n",
      "user1: [1] --------- user2: [3]\n",
      "user1: [1] --------- user2: [4, 5, 6.0, 7.0]\n",
      "user1: [2] --------- user2: [3]\n",
      "user1: [2] --------- user2: [4, 5, 6.0, 7.0]\n",
      "user1: [3] --------- user2: [4, 5, 6.0, 7.0]\n",
      "4.0-------5.0\n",
      "4.0-------6.0\n",
      "4.0-------7.0\n",
      "5.0-------6.0\n",
      "5.0-------7.0\n",
      "6.0-------7.0\n",
      "user1: [1] --------- user2: [2]\n",
      "user1: [1] --------- user2: [3]\n",
      "user1: [1] --------- user2: [4, 5, 6.0, 7.0]\n",
      "user1: [2] --------- user2: [3]\n",
      "user1: [2] --------- user2: [4, 5, 6.0, 7.0]\n",
      "user1: [3] --------- user2: [4, 5, 6.0, 7.0]\n",
      "4.0-------5.0\n",
      "4.0-------6.0\n",
      "4.0-------7.0\n",
      "5.0-------6.0\n",
      "5.0-------7.0\n",
      "6.0-------7.0\n",
      "user1: [1] --------- user2: [2]\n",
      "user1: [1] --------- user2: [3]\n",
      "user1: [1] --------- user2: [4, 5, 6.0, 7.0]\n",
      "user1: [2] --------- user2: [3]\n",
      "user1: [2] --------- user2: [4, 5, 6.0, 7.0]\n",
      "user1: [3] --------- user2: [4, 5, 6.0, 7.0]\n"
     ]
    }
   ],
   "source": [
    "#########Dang chay cai nay\n",
    "dict_partition = {}\n",
    "for i in range(len(update_source_target)):\n",
    "    # user_group, sum_in\n",
    "    # print(f\"user1: {update_source_target[i][0]} ------ user2: {update_source_target[i][1]}\")\n",
    "    # print(f\"weight: {update_source_target[i][2]}\")\n",
    "    user_group = [update_source_target[i][0], update_source_target[i][1]]\n",
    "    sum_in = update_source_target[i][2] + sum_in_value(source_target, update_source_target[i][1])\n",
    "    # print(f\"user group: {user_group} --------- weight: {sum_in}\")\n",
    "    sum_tot = compute_sum_tot(source_target, update_source_target[i][0], update_source_target[i][1], update_source_target)\n",
    "    k_i_in = compute_k_i_in(source_target, update_source_target[i][0], update_source_target[i][1])\n",
    "    k_i = compute_k_i(source_target, update_source_target[i][0], update_source_target[i][1], update_source_target)\n",
    "    _2m = compute_2_m(source_target, weight_matrix, update_source_target)\n",
    "    Q = ((sum_in + k_i_in)/(_2m) - ((sum_tot + k_i)/_2m)**2 - (sum_in/_2m - ((sum_tot/_2m)**2) - ((k_i)/_2m)**2))\n",
    "    # print(f\"sum_in: {sum_in}-------sum_tot: {sum_tot}---------k_i_in: {k_i_in}-----k_i:{k_i}-----2m:{_2m}---Q: {Q}\")\n",
    "    # #group - sum_in - sum_tot - k_i_in - k_i - 2m - Q\n",
    "    dict_partition[i] = [user_group, sum_in, sum_tot, k_i_in, k_i, _2m, Q]\n",
    "    "
   ]
  },
  {
   "cell_type": "code",
   "execution_count": 43,
   "metadata": {},
   "outputs": [
    {
     "data": {
      "text/plain": [
       "{0: [[[1], [2]], 6.0, 40.0, 1, 10, 116.0, -0.05083234244946486],\n",
       " 1: [[[1], [3]], 4.0, 34.0, 1, 10, 116.0, -0.04191438763376931],\n",
       " 2: [[[1], [4, 5, 6.0, 7.0]], 32.0, 10.0, 10, 10, 116.0, 0.07134363852556475],\n",
       " 3: [[[2], [3]], 4.0, 28.0, 1, 10, 116.0, -0.0329964328180737],\n",
       " 4: [[[2], [4, 5, 6.0, 7.0]], 32.0, 4.0, 10, 10, 116.0, 0.08026159334126037],\n",
       " 5: [[[3], [4, 5, 6.0, 7.0]], 28.0, 0.0, 10, 10, 116.0, 0.08620689655172414]}"
      ]
     },
     "execution_count": 43,
     "metadata": {},
     "output_type": "execute_result"
    }
   ],
   "source": [
    "dict_partition"
   ]
  },
  {
   "cell_type": "code",
   "execution_count": 44,
   "metadata": {},
   "outputs": [
    {
     "data": {
      "text/plain": [
       "{5: [[[3], [4, 5, 6.0, 7.0]], 28.0, 0.0, 10, 10, 116.0, 0.08620689655172414],\n",
       " 4: [[[2], [4, 5, 6.0, 7.0]], 32.0, 4.0, 10, 10, 116.0, 0.08026159334126037],\n",
       " 2: [[[1], [4, 5, 6.0, 7.0]], 32.0, 10.0, 10, 10, 116.0, 0.07134363852556475]}"
      ]
     },
     "execution_count": 44,
     "metadata": {},
     "output_type": "execute_result"
    }
   ],
   "source": [
    "sorted_data = sorted(dict_partition.items(), key=lambda x: x[-1], reverse=True)\n",
    "choose_node = {}\n",
    "for key, value in sorted_data:\n",
    "    if value[-1] > 0:\n",
    "        choose_node[key] = value\n",
    "choose_node"
   ]
  },
  {
   "cell_type": "code",
   "execution_count": 45,
   "metadata": {},
   "outputs": [
    {
     "name": "stdout",
     "output_type": "stream",
     "text": [
      "[[[3], [4, 5, 6.0, 7.0]]]\n"
     ]
    },
    {
     "data": {
      "text/plain": [
       "{0: [[1], [2], [3], [4], [5], [6], [7]],\n",
       " 1: [[1], [2], [3], [4], [5], [6.0, 7.0]],\n",
       " 2: [[1], [2], [3], [4], [5, 6.0, 7.0]],\n",
       " 3: [[1], [2], [3], [4, 5, 6.0, 7.0]],\n",
       " 4: [[3, 4, 5, 6.0, 7.0], [1], [2]]}"
      ]
     },
     "execution_count": 45,
     "metadata": {},
     "output_type": "execute_result"
    }
   ],
   "source": [
    "the_number_of_node_in_steps(df, partition, choose_node)\n",
    "partition"
   ]
  },
  {
   "attachments": {},
   "cell_type": "markdown",
   "metadata": {},
   "source": [
    "# Lần 5"
   ]
  },
  {
   "cell_type": "code",
   "execution_count": 46,
   "metadata": {},
   "outputs": [
    {
     "data": {
      "text/plain": [
       "{0: [[1], [2], 6.0],\n",
       " 1: [[1], [3, 4, 5, 6.0, 7.0], 20.0],\n",
       " 2: [[2], [3, 4, 5, 6.0, 7.0], 20.0]}"
      ]
     },
     "execution_count": 46,
     "metadata": {},
     "output_type": "execute_result"
    }
   ],
   "source": [
    "update_source_target = update_weight_source_target(partition, source_target)\n",
    "update_source_target"
   ]
  },
  {
   "cell_type": "code",
   "execution_count": 47,
   "metadata": {},
   "outputs": [
    {
     "name": "stdout",
     "output_type": "stream",
     "text": [
      "user1: [1] --------- user2: [2]\n",
      "user1: [1] --------- user2: [3, 4, 5, 6.0, 7.0]\n",
      "user1: [2] --------- user2: [3, 4, 5, 6.0, 7.0]\n",
      "3.0-------4.0\n",
      "3.0-------5.0\n",
      "3.0-------6.0\n",
      "3.0-------7.0\n",
      "4.0-------5.0\n",
      "4.0-------6.0\n",
      "4.0-------7.0\n",
      "5.0-------6.0\n",
      "5.0-------7.0\n",
      "6.0-------7.0\n",
      "user1: [1] --------- user2: [2]\n",
      "user1: [1] --------- user2: [3, 4, 5, 6.0, 7.0]\n",
      "user1: [2] --------- user2: [3, 4, 5, 6.0, 7.0]\n",
      "3.0-------4.0\n",
      "3.0-------5.0\n",
      "3.0-------6.0\n",
      "3.0-------7.0\n",
      "4.0-------5.0\n",
      "4.0-------6.0\n",
      "4.0-------7.0\n",
      "5.0-------6.0\n",
      "5.0-------7.0\n",
      "6.0-------7.0\n",
      "user1: [1] --------- user2: [2]\n",
      "user1: [1] --------- user2: [3, 4, 5, 6.0, 7.0]\n",
      "user1: [2] --------- user2: [3, 4, 5, 6.0, 7.0]\n"
     ]
    }
   ],
   "source": [
    "#########Dang chay cai nay\n",
    "dict_partition = {}\n",
    "for i in range(len(update_source_target)):\n",
    "    # user_group, sum_in\n",
    "    # print(f\"user1: {update_source_target[i][0]} ------ user2: {update_source_target[i][1]}\")\n",
    "    # print(f\"weight: {update_source_target[i][2]}\")\n",
    "    user_group = [update_source_target[i][0], update_source_target[i][1]]\n",
    "    sum_in = update_source_target[i][2] + sum_in_value(source_target, update_source_target[i][1])\n",
    "    # print(f\"user group: {user_group} --------- weight: {sum_in}\")\n",
    "    sum_tot = compute_sum_tot(source_target, update_source_target[i][0], update_source_target[i][1], update_source_target)\n",
    "    k_i_in = compute_k_i_in(source_target, update_source_target[i][0], update_source_target[i][1])\n",
    "    k_i = compute_k_i(source_target, update_source_target[i][0], update_source_target[i][1], update_source_target)\n",
    "    _2m = compute_2_m(source_target, weight_matrix, update_source_target)\n",
    "    Q = ((sum_in + k_i_in)/(_2m) - ((sum_tot + k_i)/_2m)**2 - (sum_in/_2m - ((sum_tot/_2m)**2) - ((k_i)/_2m)**2))\n",
    "    # print(f\"sum_in: {sum_in}-------sum_tot: {sum_tot}---------k_i_in: {k_i_in}-----k_i:{k_i}-----2m:{_2m}---Q: {Q}\")\n",
    "    # #group - sum_in - sum_tot - k_i_in - k_i - 2m - Q\n",
    "    dict_partition[i] = [user_group, sum_in, sum_tot, k_i_in, k_i, _2m, Q]\n",
    "    "
   ]
  },
  {
   "cell_type": "code",
   "execution_count": 48,
   "metadata": {},
   "outputs": [
    {
     "data": {
      "text/plain": [
       "{0: [[[1], [2]], 6.0, 40.0, 1, 10, 92.0, -0.08364839319470699],\n",
       " 1: [[[1], [3, 4, 5, 6.0, 7.0]], 48.0, 6.0, 15, 6, 92.0, 0.1545368620037807],\n",
       " 2: [[[2], [3, 4, 5, 6.0, 7.0]], 48.0, 0.0, 15, 6, 92.0, 0.16304347826086962]}"
      ]
     },
     "execution_count": 48,
     "metadata": {},
     "output_type": "execute_result"
    }
   ],
   "source": [
    "dict_partition"
   ]
  },
  {
   "cell_type": "code",
   "execution_count": 49,
   "metadata": {},
   "outputs": [
    {
     "data": {
      "text/plain": [
       "{2: [[[2], [3, 4, 5, 6.0, 7.0]], 48.0, 0.0, 15, 6, 92.0, 0.16304347826086962],\n",
       " 1: [[[1], [3, 4, 5, 6.0, 7.0]], 48.0, 6.0, 15, 6, 92.0, 0.1545368620037807]}"
      ]
     },
     "execution_count": 49,
     "metadata": {},
     "output_type": "execute_result"
    }
   ],
   "source": [
    "sorted_data = sorted(dict_partition.items(), key=lambda x: x[-1], reverse=True)\n",
    "choose_node = {}\n",
    "for key, value in sorted_data:\n",
    "    if value[-1] > 0:\n",
    "        choose_node[key] = value\n",
    "choose_node"
   ]
  },
  {
   "cell_type": "code",
   "execution_count": 50,
   "metadata": {},
   "outputs": [
    {
     "name": "stdout",
     "output_type": "stream",
     "text": [
      "[[[2], [3, 4, 5, 6.0, 7.0]]]\n"
     ]
    },
    {
     "data": {
      "text/plain": [
       "{0: [[1], [2], [3], [4], [5], [6], [7]],\n",
       " 1: [[1], [2], [3], [4], [5], [6.0, 7.0]],\n",
       " 2: [[1], [2], [3], [4], [5, 6.0, 7.0]],\n",
       " 3: [[1], [2], [3], [4, 5, 6.0, 7.0]],\n",
       " 4: [[1], [2], [3, 4, 5, 6.0, 7.0]],\n",
       " 5: [[2, 3, 4, 5, 6.0, 7.0], [1]]}"
      ]
     },
     "execution_count": 50,
     "metadata": {},
     "output_type": "execute_result"
    }
   ],
   "source": [
    "the_number_of_node_in_steps(df, partition, choose_node)\n",
    "partition"
   ]
  },
  {
   "attachments": {},
   "cell_type": "markdown",
   "metadata": {},
   "source": [
    "# Lần 6"
   ]
  },
  {
   "cell_type": "code",
   "execution_count": 51,
   "metadata": {},
   "outputs": [
    {
     "data": {
      "text/plain": [
       "{0: [[1], [2, 3, 4, 5, 6.0, 7.0], 26.0]}"
      ]
     },
     "execution_count": 51,
     "metadata": {},
     "output_type": "execute_result"
    }
   ],
   "source": [
    "update_source_target = update_weight_source_target(partition, source_target)\n",
    "update_source_target"
   ]
  },
  {
   "cell_type": "code",
   "execution_count": 52,
   "metadata": {},
   "outputs": [
    {
     "name": "stdout",
     "output_type": "stream",
     "text": [
      "2.0-------3.0\n",
      "2.0-------4.0\n",
      "2.0-------5.0\n",
      "2.0-------6.0\n",
      "2.0-------7.0\n",
      "3.0-------4.0\n",
      "3.0-------5.0\n",
      "3.0-------6.0\n",
      "3.0-------7.0\n",
      "4.0-------5.0\n",
      "4.0-------6.0\n",
      "4.0-------7.0\n",
      "5.0-------6.0\n",
      "5.0-------7.0\n",
      "6.0-------7.0\n",
      "user1: [1] --------- user2: [2, 3, 4, 5, 6.0, 7.0]\n"
     ]
    }
   ],
   "source": [
    "#########Dang chay cai nay\n",
    "dict_partition = {}\n",
    "for i in range(len(update_source_target)):\n",
    "    # user_group, sum_in\n",
    "    # print(f\"user1: {update_source_target[i][0]} ------ user2: {update_source_target[i][1]}\")\n",
    "    # print(f\"weight: {update_source_target[i][2]}\")\n",
    "    user_group = [update_source_target[i][0], update_source_target[i][1]]\n",
    "    sum_in = update_source_target[i][2] + sum_in_value(source_target, update_source_target[i][1])\n",
    "    # print(f\"user group: {user_group} --------- weight: {sum_in}\")\n",
    "    sum_tot = compute_sum_tot(source_target, update_source_target[i][0], update_source_target[i][1], update_source_target)\n",
    "    k_i_in = compute_k_i_in(source_target, update_source_target[i][0], update_source_target[i][1])\n",
    "    k_i = compute_k_i(source_target, update_source_target[i][0], update_source_target[i][1], update_source_target)\n",
    "    _2m = compute_2_m(source_target, weight_matrix, update_source_target)\n",
    "    Q = ((sum_in + k_i_in)/(_2m) - ((sum_tot + k_i)/_2m)**2 - (sum_in/_2m - ((sum_tot/_2m)**2) - ((k_i)/_2m)**2))\n",
    "    # print(f\"sum_in: {sum_in}-------sum_tot: {sum_tot}---------k_i_in: {k_i_in}-----k_i:{k_i}-----2m:{_2m}---Q: {Q}\")\n",
    "    # #group - sum_in - sum_tot - k_i_in - k_i - 2m - Q\n",
    "    dict_partition[i] = [user_group, sum_in, sum_tot, k_i_in, k_i, _2m, Q]\n",
    "    "
   ]
  },
  {
   "cell_type": "code",
   "execution_count": 53,
   "metadata": {},
   "outputs": [
    {
     "data": {
      "text/plain": [
       "{0: [[[1], [2, 3, 4, 5, 6.0, 7.0]],\n",
       "  74.0,\n",
       "  0.0,\n",
       "  21,\n",
       "  0,\n",
       "  52.0,\n",
       "  0.40384615384615374]}"
      ]
     },
     "execution_count": 53,
     "metadata": {},
     "output_type": "execute_result"
    }
   ],
   "source": [
    "dict_partition"
   ]
  },
  {
   "cell_type": "code",
   "execution_count": 54,
   "metadata": {},
   "outputs": [
    {
     "data": {
      "text/plain": [
       "{0: [[[1], [2, 3, 4, 5, 6.0, 7.0]],\n",
       "  74.0,\n",
       "  0.0,\n",
       "  21,\n",
       "  0,\n",
       "  52.0,\n",
       "  0.40384615384615374]}"
      ]
     },
     "execution_count": 54,
     "metadata": {},
     "output_type": "execute_result"
    }
   ],
   "source": [
    "sorted_data = sorted(dict_partition.items(), key=lambda x: x[-1], reverse=True)\n",
    "choose_node = {}\n",
    "for key, value in sorted_data:\n",
    "    if value[-1] > 0:\n",
    "        choose_node[key] = value\n",
    "choose_node"
   ]
  },
  {
   "cell_type": "code",
   "execution_count": 55,
   "metadata": {},
   "outputs": [
    {
     "name": "stdout",
     "output_type": "stream",
     "text": [
      "[[[1], [2, 3, 4, 5, 6.0, 7.0]]]\n"
     ]
    },
    {
     "data": {
      "text/plain": [
       "{0: [[1], [2], [3], [4], [5], [6], [7]],\n",
       " 1: [[1], [2], [3], [4], [5], [6.0, 7.0]],\n",
       " 2: [[1], [2], [3], [4], [5, 6.0, 7.0]],\n",
       " 3: [[1], [2], [3], [4, 5, 6.0, 7.0]],\n",
       " 4: [[1], [2], [3, 4, 5, 6.0, 7.0]],\n",
       " 5: [[1], [2, 3, 4, 5, 6.0, 7.0]],\n",
       " 6: [[1, 2, 3, 4, 5, 6.0, 7.0]]}"
      ]
     },
     "execution_count": 55,
     "metadata": {},
     "output_type": "execute_result"
    }
   ],
   "source": [
    "the_number_of_node_in_steps(df, partition, choose_node)\n",
    "partition"
   ]
  },
  {
   "attachments": {},
   "cell_type": "markdown",
   "metadata": {},
   "source": [
    "# Lần 7"
   ]
  },
  {
   "cell_type": "code",
   "execution_count": 56,
   "metadata": {},
   "outputs": [
    {
     "data": {
      "text/plain": [
       "{}"
      ]
     },
     "execution_count": 56,
     "metadata": {},
     "output_type": "execute_result"
    }
   ],
   "source": [
    "update_source_target = update_weight_source_target(partition, source_target)\n",
    "update_source_target"
   ]
  },
  {
   "cell_type": "code",
   "execution_count": 57,
   "metadata": {},
   "outputs": [
    {
     "name": "stdout",
     "output_type": "stream",
     "text": [
      "0\n"
     ]
    }
   ],
   "source": [
    "if len(update_source_target) == 0:\n",
    "    print(0)\n",
    "else:\n",
    "    print(1)"
   ]
  }
 ],
 "metadata": {
  "kernelspec": {
   "display_name": "mangxh",
   "language": "python",
   "name": "python3"
  },
  "language_info": {
   "codemirror_mode": {
    "name": "ipython",
    "version": 3
   },
   "file_extension": ".py",
   "mimetype": "text/x-python",
   "name": "python",
   "nbconvert_exporter": "python",
   "pygments_lexer": "ipython3",
   "version": "3.8.16"
  },
  "orig_nbformat": 4
 },
 "nbformat": 4,
 "nbformat_minor": 2
}
